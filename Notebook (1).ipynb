{
 "cells": [
  {
   "cell_type": "code",
   "execution_count": 1,
   "metadata": {},
   "outputs": [],
   "source": [
    "import pandas as pd\n",
    "import matplotlib as plt\n",
    "import seaborn as sns"
   ]
  },
  {
   "cell_type": "code",
   "execution_count": 2,
   "metadata": {},
   "outputs": [
    {
     "name": "stderr",
     "output_type": "stream",
     "text": [
      "/Users/carterpace/anaconda3/lib/python3.6/site-packages/IPython/core/interactiveshell.py:2785: DtypeWarning: Columns (0,19,49,59,118,129,130,131,134,135,136,139,145,146,147) have mixed types. Specify dtype option on import or set low_memory=False.\n",
      "  interactivity=interactivity, compiler=compiler, result=result)\n"
     ]
    }
   ],
   "source": [
    "df_accepted = pd.read_csv(\"accepted.csv\")\n",
    "# df_rejected = pd.read_csv(\"rejected.csv\")"
   ]
  },
  {
   "cell_type": "code",
   "execution_count": 3,
   "metadata": {},
   "outputs": [
    {
     "name": "stdout",
     "output_type": "stream",
     "text": [
      "<class 'pandas.core.frame.DataFrame'>\n",
      "RangeIndex: 2260701 entries, 0 to 2260700\n",
      "Columns: 151 entries, id to settlement_term\n",
      "dtypes: float64(113), object(38)\n",
      "memory usage: 2.5+ GB\n",
      "None\n"
     ]
    }
   ],
   "source": [
    "print(df_accepted.info())\n",
    "# print(df_rejected.info())"
   ]
  },
  {
   "cell_type": "code",
   "execution_count": 79,
   "metadata": {},
   "outputs": [],
   "source": [
    "df = df_accepted[df_accepted['loan_status'].isin(['Fully Paid', 'Charged Off', 'Default'])]"
   ]
  },
  {
   "cell_type": "code",
   "execution_count": 80,
   "metadata": {},
   "outputs": [
    {
     "name": "stderr",
     "output_type": "stream",
     "text": [
      "/Users/carterpace/anaconda3/lib/python3.6/site-packages/ipykernel_launcher.py:1: SettingWithCopyWarning: \n",
      "A value is trying to be set on a copy of a slice from a DataFrame.\n",
      "Try using .loc[row_indexer,col_indexer] = value instead\n",
      "\n",
      "See the caveats in the documentation: http://pandas.pydata.org/pandas-docs/stable/indexing.html#indexing-view-versus-copy\n",
      "  \"\"\"Entry point for launching an IPython kernel.\n"
     ]
    }
   ],
   "source": [
    "df['year'] = df['issue_d'].str.strip().str[-4:]"
   ]
  },
  {
   "cell_type": "code",
   "execution_count": 81,
   "metadata": {},
   "outputs": [],
   "source": [
    "df = df[df['year'].isin(['2014', '2015', '2016', '2017', '2018'])]"
   ]
  },
  {
   "cell_type": "code",
   "execution_count": 83,
   "metadata": {},
   "outputs": [
    {
     "data": {
      "text/plain": [
       "(1117353, 152)"
      ]
     },
     "execution_count": 83,
     "metadata": {},
     "output_type": "execute_result"
    }
   ],
   "source": [
    "df.shape\n",
    "# df.year.value_counts()"
   ]
  },
  {
   "cell_type": "code",
   "execution_count": 84,
   "metadata": {},
   "outputs": [
    {
     "data": {
      "text/plain": [
       "Index(['id', 'member_id', 'loan_amnt', 'funded_amnt', 'funded_amnt_inv',\n",
       "       'term', 'int_rate', 'installment', 'grade', 'sub_grade',\n",
       "       ...\n",
       "       'hardship_last_payment_amount', 'disbursement_method',\n",
       "       'debt_settlement_flag', 'debt_settlement_flag_date',\n",
       "       'settlement_status', 'settlement_date', 'settlement_amount',\n",
       "       'settlement_percentage', 'settlement_term', 'year'],\n",
       "      dtype='object', length=152)"
      ]
     },
     "execution_count": 84,
     "metadata": {},
     "output_type": "execute_result"
    }
   ],
   "source": [
    "df.columns"
   ]
  },
  {
   "cell_type": "code",
   "execution_count": 85,
   "metadata": {},
   "outputs": [],
   "source": [
    "total_num = df.isnull().sum().sort_values(ascending=False)"
   ]
  },
  {
   "cell_type": "code",
   "execution_count": 86,
   "metadata": {
    "scrolled": true
   },
   "outputs": [
    {
     "name": "stderr",
     "output_type": "stream",
     "text": [
      "/Users/carterpace/anaconda3/lib/python3.6/site-packages/ipykernel_launcher.py:5: FutureWarning: Sorting because non-concatenation axis is not aligned. A future version\n",
      "of pandas will change to not sort by default.\n",
      "\n",
      "To accept the future behavior, pass 'sort=True'.\n",
      "\n",
      "To retain the current behavior and silence the warning, pass sort=False\n",
      "\n",
      "  \"\"\"\n"
     ]
    }
   ],
   "source": [
    "perc = df.isnull().sum()/df.isnull().count() *100\n",
    "perc1 = (round(perc,2).sort_values(ascending=False))\n",
    "\n",
    "# Creating a data frame:\n",
    "df_miss = pd.concat([total_num, perc1], axis =1 , keys =[\"Total Missing Values\", \"Percentage %\"]).sort_values(by =\"Percentage %\", ascending = False)"
   ]
  },
  {
   "cell_type": "code",
   "execution_count": 87,
   "metadata": {
    "scrolled": true
   },
   "outputs": [],
   "source": [
    "top_mis = df_miss[df_miss[\"Percentage %\"]<10]\n",
    "top_mis.reset_index(inplace=True)\n",
    "vals = list(top_mis['index'])"
   ]
  },
  {
   "cell_type": "code",
   "execution_count": 88,
   "metadata": {},
   "outputs": [],
   "source": [
    "df = df[vals]"
   ]
  },
  {
   "cell_type": "code",
   "execution_count": 89,
   "metadata": {},
   "outputs": [
    {
     "data": {
      "text/plain": [
       "(1117353, 94)"
      ]
     },
     "execution_count": 89,
     "metadata": {},
     "output_type": "execute_result"
    }
   ],
   "source": [
    "df.shape"
   ]
  },
  {
   "cell_type": "code",
   "execution_count": 90,
   "metadata": {
    "scrolled": true
   },
   "outputs": [
    {
     "data": {
      "text/plain": [
       "out_prncp                           1\n",
       "out_prncp_inv                       1\n",
       "policy_code                         1\n",
       "num_tl_30dpd                        5\n",
       "num_tl_120dpd_2m                    6\n",
       "inq_last_6mths                      7\n",
       "acc_now_delinq                      8\n",
       "chargeoff_within_12_mths           11\n",
       "pub_rec_bankruptcies               12\n",
       "collections_12_mths_ex_med         15\n",
       "mths_since_recent_inq              26\n",
       "num_tl_90g_dpd_24m                 28\n",
       "delinq_2yrs                        30\n",
       "num_tl_op_past_12m                 32\n",
       "tax_liens                          34\n",
       "num_actv_bc_tl                     34\n",
       "pub_rec                            36\n",
       "fico_range_high                    38\n",
       "fico_range_low                     38\n",
       "mort_acc                           39\n",
       "num_accts_ever_120_pd              39\n",
       "num_rev_tl_bal_gt_0                46\n",
       "num_actv_rev_tl                    52\n",
       "num_bc_sats                        52\n",
       "acc_open_past_24mths               55\n",
       "num_bc_tl                          67\n",
       "last_fico_range_low                71\n",
       "last_fico_range_high               72\n",
       "num_op_rev_tl                      74\n",
       "num_sats                           83\n",
       "                               ...   \n",
       "mo_sin_old_il_acct                519\n",
       "pct_tl_nvr_dlq                    626\n",
       "mo_sin_old_rev_tl_op              753\n",
       "revol_util                       1280\n",
       "bc_util                          1429\n",
       "loan_amnt                        1549\n",
       "funded_amnt                      1549\n",
       "funded_amnt_inv                  1565\n",
       "delinq_amnt                      1888\n",
       "dti                              7067\n",
       "total_bc_limit                   8411\n",
       "total_rec_late_fee              11584\n",
       "tot_coll_amt                    12679\n",
       "total_rev_hi_lim                19232\n",
       "annual_inc                      55775\n",
       "bc_open_to_buy                  72866\n",
       "avg_cur_bal                     74354\n",
       "installment                     75386\n",
       "revol_bal                       80339\n",
       "recoveries                     114693\n",
       "collection_recovery_fee        125304\n",
       "total_il_high_credit_limit     158628\n",
       "total_bal_ex_mort              173331\n",
       "total_rec_prncp                176300\n",
       "tot_cur_bal                    380480\n",
       "tot_hi_cred_lim                405175\n",
       "total_rec_int                  464322\n",
       "last_pymnt_amnt                615092\n",
       "total_pymnt_inv                878401\n",
       "total_pymnt                   1047071\n",
       "Length: 69, dtype: int64"
      ]
     },
     "execution_count": 90,
     "metadata": {},
     "output_type": "execute_result"
    }
   ],
   "source": [
    "num_feat = df.select_dtypes('number').columns.values\n",
    "df[num_feat].nunique().sort_values()"
   ]
  },
  {
   "cell_type": "code",
   "execution_count": 91,
   "metadata": {},
   "outputs": [
    {
     "data": {
      "text/plain": [
       "(857828, 94)"
      ]
     },
     "execution_count": 91,
     "metadata": {},
     "output_type": "execute_result"
    }
   ],
   "source": [
    "df2 = df.dropna()\n",
    "df2.shape"
   ]
  },
  {
   "cell_type": "code",
   "execution_count": 92,
   "metadata": {},
   "outputs": [
    {
     "name": "stderr",
     "output_type": "stream",
     "text": [
      "/Users/carterpace/anaconda3/lib/python3.6/site-packages/scipy/stats/stats.py:3010: RuntimeWarning: invalid value encountered in double_scalars\n",
      "  r = r_num / r_den\n"
     ]
    }
   ],
   "source": [
    "import numpy as np\n",
    "from itertools import combinations\n",
    "from scipy.stats import pearsonr\n",
    "\n",
    "num_feat = df2.select_dtypes('number').columns.values\n",
    "comb_num_feat = np.array(list(combinations(num_feat, 2)))\n",
    "corr_num_feat = np.array([])\n",
    "for comb in comb_num_feat:\n",
    "    corr = pearsonr(df2[comb[0]], df2[comb[1]])[0]\n",
    "    corr_num_feat = np.append(corr_num_feat, corr)"
   ]
  },
  {
   "cell_type": "code",
   "execution_count": 93,
   "metadata": {},
   "outputs": [
    {
     "data": {
      "text/plain": [
       "array([ 0.00099067, -0.01138458,  0.09027691, ...,  0.51360037,\n",
       "        0.0431025 ,  0.25588534])"
      ]
     },
     "execution_count": 93,
     "metadata": {},
     "output_type": "execute_result"
    }
   ],
   "source": [
    "corr_num_feat"
   ]
  },
  {
   "cell_type": "code",
   "execution_count": 94,
   "metadata": {},
   "outputs": [
    {
     "name": "stderr",
     "output_type": "stream",
     "text": [
      "/Users/carterpace/anaconda3/lib/python3.6/site-packages/ipykernel_launcher.py:1: RuntimeWarning: invalid value encountered in greater_equal\n",
      "  \"\"\"Entry point for launching an IPython kernel.\n"
     ]
    },
    {
     "data": {
      "text/plain": [
       "array([['bc_util', 'percent_bc_gt_75'],\n",
       "       ['bc_util', 'revol_util'],\n",
       "       ['bc_open_to_buy', 'total_bc_limit'],\n",
       "       ['revol_bal', 'total_rev_hi_lim'],\n",
       "       ['recoveries', 'collection_recovery_fee'],\n",
       "       ['total_pymnt_inv', 'total_rec_prncp'],\n",
       "       ['total_pymnt_inv', 'total_pymnt'],\n",
       "       ['total_pymnt_inv', 'installment'],\n",
       "       ['total_pymnt_inv', 'funded_amnt_inv'],\n",
       "       ['total_pymnt_inv', 'funded_amnt'],\n",
       "       ['total_pymnt_inv', 'loan_amnt'],\n",
       "       ['total_rec_prncp', 'total_pymnt'],\n",
       "       ['total_pymnt', 'installment'],\n",
       "       ['total_pymnt', 'funded_amnt_inv'],\n",
       "       ['total_pymnt', 'funded_amnt'],\n",
       "       ['total_pymnt', 'loan_amnt'],\n",
       "       ['total_il_high_credit_limit', 'total_bal_ex_mort'],\n",
       "       ['tot_hi_cred_lim', 'tot_cur_bal'],\n",
       "       ['tot_cur_bal', 'avg_cur_bal'],\n",
       "       ['num_actv_bc_tl', 'num_bc_sats'],\n",
       "       ['num_actv_bc_tl', 'num_rev_tl_bal_gt_0'],\n",
       "       ['num_actv_bc_tl', 'num_actv_rev_tl'],\n",
       "       ['installment', 'funded_amnt_inv'],\n",
       "       ['installment', 'funded_amnt'],\n",
       "       ['installment', 'loan_amnt'],\n",
       "       ['funded_amnt_inv', 'funded_amnt'],\n",
       "       ['funded_amnt_inv', 'loan_amnt'],\n",
       "       ['funded_amnt', 'loan_amnt'],\n",
       "       ['fico_range_low', 'fico_range_high'],\n",
       "       ['open_acc', 'num_sats'],\n",
       "       ['open_acc', 'num_op_rev_tl'],\n",
       "       ['num_sats', 'num_op_rev_tl'],\n",
       "       ['num_rev_tl_bal_gt_0', 'num_actv_rev_tl'],\n",
       "       ['num_rev_accts', 'num_bc_tl'],\n",
       "       ['last_fico_range_high', 'last_fico_range_low']], dtype='<U26')"
      ]
     },
     "execution_count": 94,
     "metadata": {},
     "output_type": "execute_result"
    }
   ],
   "source": [
    "high_corr_num = comb_num_feat[np.abs(corr_num_feat) >= 0.8]\n",
    "high_corr_num"
   ]
  },
  {
   "cell_type": "code",
   "execution_count": 168,
   "metadata": {},
   "outputs": [
    {
     "data": {
      "text/plain": [
       "(857828, 74)"
      ]
     },
     "execution_count": 168,
     "metadata": {},
     "output_type": "execute_result"
    }
   ],
   "source": [
    "df3 = df2.drop(np.unique(high_corr_num[:, 0]), axis=1, errors='ignore')\n",
    "df3.shape"
   ]
  },
  {
   "cell_type": "code",
   "execution_count": 169,
   "metadata": {},
   "outputs": [
    {
     "data": {
      "text/html": [
       "<div>\n",
       "<style scoped>\n",
       "    .dataframe tbody tr th:only-of-type {\n",
       "        vertical-align: middle;\n",
       "    }\n",
       "\n",
       "    .dataframe tbody tr th {\n",
       "        vertical-align: top;\n",
       "    }\n",
       "\n",
       "    .dataframe thead th {\n",
       "        text-align: right;\n",
       "    }\n",
       "</style>\n",
       "<table border=\"1\" class=\"dataframe\">\n",
       "  <thead>\n",
       "    <tr style=\"text-align: right;\">\n",
       "      <th></th>\n",
       "      <th>mths_since_recent_inq</th>\n",
       "      <th>emp_title</th>\n",
       "      <th>emp_length</th>\n",
       "      <th>num_tl_120dpd_2m</th>\n",
       "      <th>mo_sin_old_il_acct</th>\n",
       "      <th>title</th>\n",
       "      <th>percent_bc_gt_75</th>\n",
       "      <th>mths_since_recent_bc</th>\n",
       "      <th>last_pymnt_d</th>\n",
       "      <th>revol_util</th>\n",
       "      <th>...</th>\n",
       "      <th>num_accts_ever_120_pd</th>\n",
       "      <th>mort_acc</th>\n",
       "      <th>mo_sin_rcnt_tl</th>\n",
       "      <th>mo_sin_rcnt_rev_tl_op</th>\n",
       "      <th>mo_sin_old_rev_tl_op</th>\n",
       "      <th>loan_status</th>\n",
       "      <th>loan_amnt</th>\n",
       "      <th>last_pymnt_amnt</th>\n",
       "      <th>last_fico_range_low</th>\n",
       "      <th>zip_code</th>\n",
       "    </tr>\n",
       "  </thead>\n",
       "  <tbody>\n",
       "    <tr>\n",
       "      <th>0</th>\n",
       "      <td>4.0</td>\n",
       "      <td>leadman</td>\n",
       "      <td>10+ years</td>\n",
       "      <td>0.0</td>\n",
       "      <td>148.0</td>\n",
       "      <td>Debt consolidation</td>\n",
       "      <td>0.0</td>\n",
       "      <td>4.0</td>\n",
       "      <td>Jan-2019</td>\n",
       "      <td>29.7</td>\n",
       "      <td>...</td>\n",
       "      <td>2.0</td>\n",
       "      <td>1.0</td>\n",
       "      <td>3.0</td>\n",
       "      <td>3.0</td>\n",
       "      <td>128.0</td>\n",
       "      <td>Fully Paid</td>\n",
       "      <td>3600.0</td>\n",
       "      <td>122.67</td>\n",
       "      <td>560.0</td>\n",
       "      <td>190xx</td>\n",
       "    </tr>\n",
       "    <tr>\n",
       "      <th>1</th>\n",
       "      <td>0.0</td>\n",
       "      <td>Engineer</td>\n",
       "      <td>10+ years</td>\n",
       "      <td>0.0</td>\n",
       "      <td>113.0</td>\n",
       "      <td>Business</td>\n",
       "      <td>7.7</td>\n",
       "      <td>2.0</td>\n",
       "      <td>Jun-2016</td>\n",
       "      <td>19.2</td>\n",
       "      <td>...</td>\n",
       "      <td>0.0</td>\n",
       "      <td>4.0</td>\n",
       "      <td>2.0</td>\n",
       "      <td>2.0</td>\n",
       "      <td>192.0</td>\n",
       "      <td>Fully Paid</td>\n",
       "      <td>24700.0</td>\n",
       "      <td>926.35</td>\n",
       "      <td>695.0</td>\n",
       "      <td>577xx</td>\n",
       "    </tr>\n",
       "    <tr>\n",
       "      <th>4</th>\n",
       "      <td>1.0</td>\n",
       "      <td>Contract Specialist</td>\n",
       "      <td>3 years</td>\n",
       "      <td>0.0</td>\n",
       "      <td>128.0</td>\n",
       "      <td>Major purchase</td>\n",
       "      <td>60.0</td>\n",
       "      <td>4.0</td>\n",
       "      <td>Jul-2016</td>\n",
       "      <td>64.5</td>\n",
       "      <td>...</td>\n",
       "      <td>0.0</td>\n",
       "      <td>6.0</td>\n",
       "      <td>4.0</td>\n",
       "      <td>4.0</td>\n",
       "      <td>210.0</td>\n",
       "      <td>Fully Paid</td>\n",
       "      <td>10400.0</td>\n",
       "      <td>10128.96</td>\n",
       "      <td>700.0</td>\n",
       "      <td>174xx</td>\n",
       "    </tr>\n",
       "    <tr>\n",
       "      <th>6</th>\n",
       "      <td>10.0</td>\n",
       "      <td>Vice President of Recruiting Operations</td>\n",
       "      <td>10+ years</td>\n",
       "      <td>0.0</td>\n",
       "      <td>142.0</td>\n",
       "      <td>Debt consolidation</td>\n",
       "      <td>100.0</td>\n",
       "      <td>12.0</td>\n",
       "      <td>Nov-2016</td>\n",
       "      <td>84.5</td>\n",
       "      <td>...</td>\n",
       "      <td>0.0</td>\n",
       "      <td>4.0</td>\n",
       "      <td>10.0</td>\n",
       "      <td>10.0</td>\n",
       "      <td>306.0</td>\n",
       "      <td>Fully Paid</td>\n",
       "      <td>20000.0</td>\n",
       "      <td>15681.05</td>\n",
       "      <td>650.0</td>\n",
       "      <td>550xx</td>\n",
       "    </tr>\n",
       "    <tr>\n",
       "      <th>7</th>\n",
       "      <td>8.0</td>\n",
       "      <td>road driver</td>\n",
       "      <td>10+ years</td>\n",
       "      <td>0.0</td>\n",
       "      <td>149.0</td>\n",
       "      <td>Major purchase</td>\n",
       "      <td>0.0</td>\n",
       "      <td>32.0</td>\n",
       "      <td>Jan-2017</td>\n",
       "      <td>5.7</td>\n",
       "      <td>...</td>\n",
       "      <td>1.0</td>\n",
       "      <td>3.0</td>\n",
       "      <td>13.0</td>\n",
       "      <td>32.0</td>\n",
       "      <td>55.0</td>\n",
       "      <td>Fully Paid</td>\n",
       "      <td>20000.0</td>\n",
       "      <td>14618.23</td>\n",
       "      <td>670.0</td>\n",
       "      <td>293xx</td>\n",
       "    </tr>\n",
       "  </tbody>\n",
       "</table>\n",
       "<p>5 rows × 74 columns</p>\n",
       "</div>"
      ],
      "text/plain": [
       "   mths_since_recent_inq                                emp_title emp_length  \\\n",
       "0                    4.0                                  leadman  10+ years   \n",
       "1                    0.0                                 Engineer  10+ years   \n",
       "4                    1.0                      Contract Specialist    3 years   \n",
       "6                   10.0  Vice President of Recruiting Operations  10+ years   \n",
       "7                    8.0                              road driver  10+ years   \n",
       "\n",
       "   num_tl_120dpd_2m  mo_sin_old_il_acct               title  percent_bc_gt_75  \\\n",
       "0               0.0               148.0  Debt consolidation               0.0   \n",
       "1               0.0               113.0            Business               7.7   \n",
       "4               0.0               128.0      Major purchase              60.0   \n",
       "6               0.0               142.0  Debt consolidation             100.0   \n",
       "7               0.0               149.0      Major purchase               0.0   \n",
       "\n",
       "   mths_since_recent_bc last_pymnt_d  revol_util   ...     \\\n",
       "0                   4.0     Jan-2019        29.7   ...      \n",
       "1                   2.0     Jun-2016        19.2   ...      \n",
       "4                   4.0     Jul-2016        64.5   ...      \n",
       "6                  12.0     Nov-2016        84.5   ...      \n",
       "7                  32.0     Jan-2017         5.7   ...      \n",
       "\n",
       "   num_accts_ever_120_pd mort_acc  mo_sin_rcnt_tl  mo_sin_rcnt_rev_tl_op  \\\n",
       "0                    2.0      1.0             3.0                    3.0   \n",
       "1                    0.0      4.0             2.0                    2.0   \n",
       "4                    0.0      6.0             4.0                    4.0   \n",
       "6                    0.0      4.0            10.0                   10.0   \n",
       "7                    1.0      3.0            13.0                   32.0   \n",
       "\n",
       "   mo_sin_old_rev_tl_op loan_status  loan_amnt last_pymnt_amnt  \\\n",
       "0                 128.0  Fully Paid     3600.0          122.67   \n",
       "1                 192.0  Fully Paid    24700.0          926.35   \n",
       "4                 210.0  Fully Paid    10400.0        10128.96   \n",
       "6                 306.0  Fully Paid    20000.0        15681.05   \n",
       "7                  55.0  Fully Paid    20000.0        14618.23   \n",
       "\n",
       "   last_fico_range_low zip_code  \n",
       "0                560.0    190xx  \n",
       "1                695.0    577xx  \n",
       "4                700.0    174xx  \n",
       "6                650.0    550xx  \n",
       "7                670.0    293xx  \n",
       "\n",
       "[5 rows x 74 columns]"
      ]
     },
     "execution_count": 169,
     "metadata": {},
     "output_type": "execute_result"
    }
   ],
   "source": [
    "df3.head()"
   ]
  },
  {
   "cell_type": "code",
   "execution_count": 170,
   "metadata": {},
   "outputs": [
    {
     "data": {
      "text/plain": [
       "Fully Paid     682561\n",
       "Charged Off    175267\n",
       "Name: loan_status, dtype: int64"
      ]
     },
     "execution_count": 170,
     "metadata": {},
     "output_type": "execute_result"
    }
   ],
   "source": [
    "# df3.info()\n",
    "df3['loan_status'].value_counts()"
   ]
  },
  {
   "cell_type": "code",
   "execution_count": 171,
   "metadata": {},
   "outputs": [],
   "source": [
    "# df3.drop(['emp_title', ])\n",
    "df4 = df3.select_dtypes(include='object')"
   ]
  },
  {
   "cell_type": "code",
   "execution_count": 172,
   "metadata": {},
   "outputs": [
    {
     "name": "stdout",
     "output_type": "stream",
     "text": [
      "<class 'pandas.core.frame.DataFrame'>\n",
      "Int64Index: 857828 entries, 0 to 2260697\n",
      "Data columns (total 25 columns):\n",
      "emp_title               857828 non-null object\n",
      "emp_length              857828 non-null object\n",
      "title                   857828 non-null object\n",
      "last_pymnt_d            857828 non-null object\n",
      "pymnt_plan              857828 non-null object\n",
      "purpose                 857828 non-null object\n",
      "sub_grade               857828 non-null object\n",
      "year                    857828 non-null object\n",
      "verification_status     857828 non-null object\n",
      "url                     857828 non-null object\n",
      "term                    857828 non-null object\n",
      "initial_list_status     857828 non-null object\n",
      "id                      857828 non-null object\n",
      "home_ownership          857828 non-null object\n",
      "hardship_flag           857828 non-null object\n",
      "grade                   857828 non-null object\n",
      "earliest_cr_line        857828 non-null object\n",
      "disbursement_method     857828 non-null object\n",
      "debt_settlement_flag    857828 non-null object\n",
      "application_type        857828 non-null object\n",
      "addr_state              857828 non-null object\n",
      "issue_d                 857828 non-null object\n",
      "last_credit_pull_d      857828 non-null object\n",
      "loan_status             857828 non-null object\n",
      "zip_code                857828 non-null object\n",
      "dtypes: object(25)\n",
      "memory usage: 210.2+ MB\n"
     ]
    }
   ],
   "source": [
    "df4.info()"
   ]
  },
  {
   "cell_type": "code",
   "execution_count": 173,
   "metadata": {},
   "outputs": [],
   "source": [
    "# MAYBE FEATURE ENGINEER REGION FROM \"ADDR_STATE\"\n",
    "# - create interest rate factor type variable"
   ]
  },
  {
   "cell_type": "code",
   "execution_count": 174,
   "metadata": {},
   "outputs": [],
   "source": [
    "drop_col = ['emp_title', \n",
    "            'title', \n",
    "            'last_pymnt_d', \n",
    "            'pymnt_plan', \n",
    "            'url', 'id', \n",
    "            'hardship_flag', \n",
    "            'grade', \n",
    "            'earliest_cr_line', \n",
    "            'year', \n",
    "            'last_credit_pull_d', \n",
    "            'zip_code',\n",
    "            \n",
    "            ##numeral variables\n",
    "            'last_fico_range_low',\n",
    "            'last_pymnt_amnt',\n",
    "            ]"
   ]
  },
  {
   "cell_type": "code",
   "execution_count": 175,
   "metadata": {
    "scrolled": true
   },
   "outputs": [],
   "source": [
    "df3 = df3.drop(drop_col, axis=1)"
   ]
  },
  {
   "cell_type": "code",
   "execution_count": 176,
   "metadata": {},
   "outputs": [
    {
     "data": {
      "text/plain": [
       "(857828, 60)"
      ]
     },
     "execution_count": 176,
     "metadata": {},
     "output_type": "execute_result"
    }
   ],
   "source": [
    "df3.shape"
   ]
  },
  {
   "cell_type": "code",
   "execution_count": 177,
   "metadata": {
    "scrolled": false
   },
   "outputs": [
    {
     "name": "stdout",
     "output_type": "stream",
     "text": [
      "<class 'pandas.core.frame.DataFrame'>\n",
      "Int64Index: 857828 entries, 0 to 2260697\n",
      "Data columns (total 60 columns):\n",
      "mths_since_recent_inq         857828 non-null float64\n",
      "emp_length                    857828 non-null object\n",
      "num_tl_120dpd_2m              857828 non-null float64\n",
      "mo_sin_old_il_acct            857828 non-null float64\n",
      "percent_bc_gt_75              857828 non-null float64\n",
      "mths_since_recent_bc          857828 non-null float64\n",
      "revol_util                    857828 non-null float64\n",
      "dti                           857828 non-null float64\n",
      "policy_code                   857828 non-null float64\n",
      "pub_rec                       857828 non-null float64\n",
      "pub_rec_bankruptcies          857828 non-null float64\n",
      "purpose                       857828 non-null object\n",
      "acc_now_delinq                857828 non-null float64\n",
      "sub_grade                     857828 non-null object\n",
      "tax_liens                     857828 non-null float64\n",
      "verification_status           857828 non-null object\n",
      "total_rev_hi_lim              857828 non-null float64\n",
      "total_rec_late_fee            857828 non-null float64\n",
      "total_rec_int                 857828 non-null float64\n",
      "term                          857828 non-null object\n",
      "total_bc_limit                857828 non-null float64\n",
      "total_bal_ex_mort             857828 non-null float64\n",
      "total_acc                     857828 non-null float64\n",
      "tot_coll_amt                  857828 non-null float64\n",
      "pct_tl_nvr_dlq                857828 non-null float64\n",
      "out_prncp_inv                 857828 non-null float64\n",
      "out_prncp                     857828 non-null float64\n",
      "inq_last_6mths                857828 non-null float64\n",
      "initial_list_status           857828 non-null object\n",
      "home_ownership                857828 non-null object\n",
      "fico_range_high               857828 non-null float64\n",
      "disbursement_method           857828 non-null object\n",
      "delinq_amnt                   857828 non-null float64\n",
      "delinq_2yrs                   857828 non-null float64\n",
      "debt_settlement_flag          857828 non-null object\n",
      "collections_12_mths_ex_med    857828 non-null float64\n",
      "collection_recovery_fee       857828 non-null float64\n",
      "chargeoff_within_12_mths      857828 non-null float64\n",
      "avg_cur_bal                   857828 non-null float64\n",
      "application_type              857828 non-null object\n",
      "annual_inc                    857828 non-null float64\n",
      "addr_state                    857828 non-null object\n",
      "int_rate                      857828 non-null float64\n",
      "issue_d                       857828 non-null object\n",
      "num_bc_sats                   857828 non-null float64\n",
      "num_tl_op_past_12m            857828 non-null float64\n",
      "num_tl_90g_dpd_24m            857828 non-null float64\n",
      "num_tl_30dpd                  857828 non-null float64\n",
      "num_op_rev_tl                 857828 non-null float64\n",
      "num_il_tl                     857828 non-null float64\n",
      "num_bc_tl                     857828 non-null float64\n",
      "num_actv_rev_tl               857828 non-null float64\n",
      "acc_open_past_24mths          857828 non-null float64\n",
      "num_accts_ever_120_pd         857828 non-null float64\n",
      "mort_acc                      857828 non-null float64\n",
      "mo_sin_rcnt_tl                857828 non-null float64\n",
      "mo_sin_rcnt_rev_tl_op         857828 non-null float64\n",
      "mo_sin_old_rev_tl_op          857828 non-null float64\n",
      "loan_status                   857828 non-null object\n",
      "loan_amnt                     857828 non-null float64\n",
      "dtypes: float64(47), object(13)\n",
      "memory usage: 439.2+ MB\n"
     ]
    }
   ],
   "source": [
    "df3.info()"
   ]
  },
  {
   "cell_type": "code",
   "execution_count": 179,
   "metadata": {},
   "outputs": [],
   "source": [
    "# df4['num_tl_120dpd_2m'].value_counts()"
   ]
  },
  {
   "cell_type": "code",
   "execution_count": 180,
   "metadata": {},
   "outputs": [],
   "source": [
    "df4 = df3.select_dtypes(include='object')\n",
    "categorical_features = list(df4.columns)"
   ]
  },
  {
   "cell_type": "code",
   "execution_count": 181,
   "metadata": {},
   "outputs": [],
   "source": [
    "#categories\n",
    "for col in categorical_features:\n",
    "        df3[col] = df3[col].astype('category')"
   ]
  },
  {
   "cell_type": "code",
   "execution_count": 183,
   "metadata": {},
   "outputs": [],
   "source": [
    "df3['policy_code'] = df3['policy_code'].astype('category')"
   ]
  },
  {
   "cell_type": "code",
   "execution_count": 184,
   "metadata": {},
   "outputs": [
    {
     "name": "stdout",
     "output_type": "stream",
     "text": [
      "<class 'pandas.core.frame.DataFrame'>\n",
      "Int64Index: 857828 entries, 0 to 2260697\n",
      "Data columns (total 60 columns):\n",
      "mths_since_recent_inq         857828 non-null float64\n",
      "emp_length                    857828 non-null category\n",
      "num_tl_120dpd_2m              857828 non-null float64\n",
      "mo_sin_old_il_acct            857828 non-null float64\n",
      "percent_bc_gt_75              857828 non-null float64\n",
      "mths_since_recent_bc          857828 non-null float64\n",
      "revol_util                    857828 non-null float64\n",
      "dti                           857828 non-null float64\n",
      "policy_code                   857828 non-null category\n",
      "pub_rec                       857828 non-null float64\n",
      "pub_rec_bankruptcies          857828 non-null float64\n",
      "purpose                       857828 non-null category\n",
      "acc_now_delinq                857828 non-null float64\n",
      "sub_grade                     857828 non-null category\n",
      "tax_liens                     857828 non-null float64\n",
      "verification_status           857828 non-null category\n",
      "total_rev_hi_lim              857828 non-null float64\n",
      "total_rec_late_fee            857828 non-null float64\n",
      "total_rec_int                 857828 non-null float64\n",
      "term                          857828 non-null category\n",
      "total_bc_limit                857828 non-null float64\n",
      "total_bal_ex_mort             857828 non-null float64\n",
      "total_acc                     857828 non-null float64\n",
      "tot_coll_amt                  857828 non-null float64\n",
      "pct_tl_nvr_dlq                857828 non-null float64\n",
      "out_prncp_inv                 857828 non-null float64\n",
      "out_prncp                     857828 non-null float64\n",
      "inq_last_6mths                857828 non-null float64\n",
      "initial_list_status           857828 non-null category\n",
      "home_ownership                857828 non-null category\n",
      "fico_range_high               857828 non-null float64\n",
      "disbursement_method           857828 non-null category\n",
      "delinq_amnt                   857828 non-null float64\n",
      "delinq_2yrs                   857828 non-null float64\n",
      "debt_settlement_flag          857828 non-null category\n",
      "collections_12_mths_ex_med    857828 non-null float64\n",
      "collection_recovery_fee       857828 non-null float64\n",
      "chargeoff_within_12_mths      857828 non-null float64\n",
      "avg_cur_bal                   857828 non-null float64\n",
      "application_type              857828 non-null category\n",
      "annual_inc                    857828 non-null float64\n",
      "addr_state                    857828 non-null category\n",
      "int_rate                      857828 non-null float64\n",
      "issue_d                       857828 non-null category\n",
      "num_bc_sats                   857828 non-null float64\n",
      "num_tl_op_past_12m            857828 non-null float64\n",
      "num_tl_90g_dpd_24m            857828 non-null float64\n",
      "num_tl_30dpd                  857828 non-null float64\n",
      "num_op_rev_tl                 857828 non-null float64\n",
      "num_il_tl                     857828 non-null float64\n",
      "num_bc_tl                     857828 non-null float64\n",
      "num_actv_rev_tl               857828 non-null float64\n",
      "acc_open_past_24mths          857828 non-null float64\n",
      "num_accts_ever_120_pd         857828 non-null float64\n",
      "mort_acc                      857828 non-null float64\n",
      "mo_sin_rcnt_tl                857828 non-null float64\n",
      "mo_sin_rcnt_rev_tl_op         857828 non-null float64\n",
      "mo_sin_old_rev_tl_op          857828 non-null float64\n",
      "loan_status                   857828 non-null category\n",
      "loan_amnt                     857828 non-null float64\n",
      "dtypes: category(14), float64(46)\n",
      "memory usage: 359.1 MB\n"
     ]
    }
   ],
   "source": [
    "df3.info()"
   ]
  },
  {
   "cell_type": "code",
   "execution_count": 224,
   "metadata": {},
   "outputs": [
    {
     "data": {
      "text/html": [
       "<div>\n",
       "<style scoped>\n",
       "    .dataframe tbody tr th:only-of-type {\n",
       "        vertical-align: middle;\n",
       "    }\n",
       "\n",
       "    .dataframe tbody tr th {\n",
       "        vertical-align: top;\n",
       "    }\n",
       "\n",
       "    .dataframe thead th {\n",
       "        text-align: right;\n",
       "    }\n",
       "</style>\n",
       "<table border=\"1\" class=\"dataframe\">\n",
       "  <thead>\n",
       "    <tr style=\"text-align: right;\">\n",
       "      <th></th>\n",
       "      <th>month</th>\n",
       "      <th>libor</th>\n",
       "    </tr>\n",
       "  </thead>\n",
       "  <tbody>\n",
       "    <tr>\n",
       "      <th>0</th>\n",
       "      <td>Jan-2020</td>\n",
       "      <td>1.66</td>\n",
       "    </tr>\n",
       "    <tr>\n",
       "      <th>1</th>\n",
       "      <td>Dec-2019</td>\n",
       "      <td>1.76</td>\n",
       "    </tr>\n",
       "    <tr>\n",
       "      <th>2</th>\n",
       "      <td>Nov-2019</td>\n",
       "      <td>1.69</td>\n",
       "    </tr>\n",
       "    <tr>\n",
       "      <th>3</th>\n",
       "      <td>Oct-2019</td>\n",
       "      <td>1.79</td>\n",
       "    </tr>\n",
       "    <tr>\n",
       "      <th>4</th>\n",
       "      <td>Sep-2019</td>\n",
       "      <td>2.02</td>\n",
       "    </tr>\n",
       "  </tbody>\n",
       "</table>\n",
       "</div>"
      ],
      "text/plain": [
       "      month  libor\n",
       "0  Jan-2020   1.66\n",
       "1  Dec-2019   1.76\n",
       "2  Nov-2019   1.69\n",
       "3  Oct-2019   1.79\n",
       "4  Sep-2019   2.02"
      ]
     },
     "execution_count": 224,
     "metadata": {},
     "output_type": "execute_result"
    }
   ],
   "source": [
    "libor = pd.read_csv('libor.csv')\n",
    "libor.head()"
   ]
  },
  {
   "cell_type": "code",
   "execution_count": 225,
   "metadata": {},
   "outputs": [
    {
     "data": {
      "text/html": [
       "<div>\n",
       "<style scoped>\n",
       "    .dataframe tbody tr th:only-of-type {\n",
       "        vertical-align: middle;\n",
       "    }\n",
       "\n",
       "    .dataframe tbody tr th {\n",
       "        vertical-align: top;\n",
       "    }\n",
       "\n",
       "    .dataframe thead th {\n",
       "        text-align: right;\n",
       "    }\n",
       "</style>\n",
       "<table border=\"1\" class=\"dataframe\">\n",
       "  <thead>\n",
       "    <tr style=\"text-align: right;\">\n",
       "      <th></th>\n",
       "      <th>mths_since_recent_inq</th>\n",
       "      <th>emp_length</th>\n",
       "      <th>num_tl_120dpd_2m</th>\n",
       "      <th>mo_sin_old_il_acct</th>\n",
       "      <th>percent_bc_gt_75</th>\n",
       "      <th>mths_since_recent_bc</th>\n",
       "      <th>revol_util</th>\n",
       "      <th>dti</th>\n",
       "      <th>policy_code</th>\n",
       "      <th>pub_rec</th>\n",
       "      <th>...</th>\n",
       "      <th>acc_open_past_24mths</th>\n",
       "      <th>num_accts_ever_120_pd</th>\n",
       "      <th>mort_acc</th>\n",
       "      <th>mo_sin_rcnt_tl</th>\n",
       "      <th>mo_sin_rcnt_rev_tl_op</th>\n",
       "      <th>mo_sin_old_rev_tl_op</th>\n",
       "      <th>loan_status</th>\n",
       "      <th>loan_amnt</th>\n",
       "      <th>month</th>\n",
       "      <th>libor</th>\n",
       "    </tr>\n",
       "  </thead>\n",
       "  <tbody>\n",
       "    <tr>\n",
       "      <th>0</th>\n",
       "      <td>4.0</td>\n",
       "      <td>10+ years</td>\n",
       "      <td>0.0</td>\n",
       "      <td>148.0</td>\n",
       "      <td>0.0</td>\n",
       "      <td>4.0</td>\n",
       "      <td>29.7</td>\n",
       "      <td>5.91</td>\n",
       "      <td>1.0</td>\n",
       "      <td>0.0</td>\n",
       "      <td>...</td>\n",
       "      <td>4.0</td>\n",
       "      <td>2.0</td>\n",
       "      <td>1.0</td>\n",
       "      <td>3.0</td>\n",
       "      <td>3.0</td>\n",
       "      <td>128.0</td>\n",
       "      <td>Fully Paid</td>\n",
       "      <td>3600.0</td>\n",
       "      <td>Dec-2015</td>\n",
       "      <td>0.42</td>\n",
       "    </tr>\n",
       "    <tr>\n",
       "      <th>1</th>\n",
       "      <td>0.0</td>\n",
       "      <td>10+ years</td>\n",
       "      <td>0.0</td>\n",
       "      <td>113.0</td>\n",
       "      <td>7.7</td>\n",
       "      <td>2.0</td>\n",
       "      <td>19.2</td>\n",
       "      <td>16.06</td>\n",
       "      <td>1.0</td>\n",
       "      <td>0.0</td>\n",
       "      <td>...</td>\n",
       "      <td>4.0</td>\n",
       "      <td>0.0</td>\n",
       "      <td>4.0</td>\n",
       "      <td>2.0</td>\n",
       "      <td>2.0</td>\n",
       "      <td>192.0</td>\n",
       "      <td>Fully Paid</td>\n",
       "      <td>24700.0</td>\n",
       "      <td>Dec-2015</td>\n",
       "      <td>0.42</td>\n",
       "    </tr>\n",
       "    <tr>\n",
       "      <th>2</th>\n",
       "      <td>1.0</td>\n",
       "      <td>3 years</td>\n",
       "      <td>0.0</td>\n",
       "      <td>128.0</td>\n",
       "      <td>60.0</td>\n",
       "      <td>4.0</td>\n",
       "      <td>64.5</td>\n",
       "      <td>25.37</td>\n",
       "      <td>1.0</td>\n",
       "      <td>0.0</td>\n",
       "      <td>...</td>\n",
       "      <td>10.0</td>\n",
       "      <td>0.0</td>\n",
       "      <td>6.0</td>\n",
       "      <td>4.0</td>\n",
       "      <td>4.0</td>\n",
       "      <td>210.0</td>\n",
       "      <td>Fully Paid</td>\n",
       "      <td>10400.0</td>\n",
       "      <td>Dec-2015</td>\n",
       "      <td>0.42</td>\n",
       "    </tr>\n",
       "    <tr>\n",
       "      <th>3</th>\n",
       "      <td>10.0</td>\n",
       "      <td>10+ years</td>\n",
       "      <td>0.0</td>\n",
       "      <td>142.0</td>\n",
       "      <td>100.0</td>\n",
       "      <td>12.0</td>\n",
       "      <td>84.5</td>\n",
       "      <td>14.67</td>\n",
       "      <td>1.0</td>\n",
       "      <td>0.0</td>\n",
       "      <td>...</td>\n",
       "      <td>6.0</td>\n",
       "      <td>0.0</td>\n",
       "      <td>4.0</td>\n",
       "      <td>10.0</td>\n",
       "      <td>10.0</td>\n",
       "      <td>306.0</td>\n",
       "      <td>Fully Paid</td>\n",
       "      <td>20000.0</td>\n",
       "      <td>Dec-2015</td>\n",
       "      <td>0.42</td>\n",
       "    </tr>\n",
       "    <tr>\n",
       "      <th>4</th>\n",
       "      <td>8.0</td>\n",
       "      <td>10+ years</td>\n",
       "      <td>0.0</td>\n",
       "      <td>149.0</td>\n",
       "      <td>0.0</td>\n",
       "      <td>32.0</td>\n",
       "      <td>5.7</td>\n",
       "      <td>17.61</td>\n",
       "      <td>1.0</td>\n",
       "      <td>0.0</td>\n",
       "      <td>...</td>\n",
       "      <td>4.0</td>\n",
       "      <td>1.0</td>\n",
       "      <td>3.0</td>\n",
       "      <td>13.0</td>\n",
       "      <td>32.0</td>\n",
       "      <td>55.0</td>\n",
       "      <td>Fully Paid</td>\n",
       "      <td>20000.0</td>\n",
       "      <td>Dec-2015</td>\n",
       "      <td>0.42</td>\n",
       "    </tr>\n",
       "  </tbody>\n",
       "</table>\n",
       "<p>5 rows × 62 columns</p>\n",
       "</div>"
      ],
      "text/plain": [
       "   mths_since_recent_inq emp_length  num_tl_120dpd_2m  mo_sin_old_il_acct  \\\n",
       "0                    4.0  10+ years               0.0               148.0   \n",
       "1                    0.0  10+ years               0.0               113.0   \n",
       "2                    1.0    3 years               0.0               128.0   \n",
       "3                   10.0  10+ years               0.0               142.0   \n",
       "4                    8.0  10+ years               0.0               149.0   \n",
       "\n",
       "   percent_bc_gt_75  mths_since_recent_bc  revol_util    dti policy_code  \\\n",
       "0               0.0                   4.0        29.7   5.91         1.0   \n",
       "1               7.7                   2.0        19.2  16.06         1.0   \n",
       "2              60.0                   4.0        64.5  25.37         1.0   \n",
       "3             100.0                  12.0        84.5  14.67         1.0   \n",
       "4               0.0                  32.0         5.7  17.61         1.0   \n",
       "\n",
       "   pub_rec  ...   acc_open_past_24mths num_accts_ever_120_pd  mort_acc  \\\n",
       "0      0.0  ...                    4.0                   2.0       1.0   \n",
       "1      0.0  ...                    4.0                   0.0       4.0   \n",
       "2      0.0  ...                   10.0                   0.0       6.0   \n",
       "3      0.0  ...                    6.0                   0.0       4.0   \n",
       "4      0.0  ...                    4.0                   1.0       3.0   \n",
       "\n",
       "  mo_sin_rcnt_tl  mo_sin_rcnt_rev_tl_op mo_sin_old_rev_tl_op  loan_status  \\\n",
       "0            3.0                    3.0                128.0   Fully Paid   \n",
       "1            2.0                    2.0                192.0   Fully Paid   \n",
       "2            4.0                    4.0                210.0   Fully Paid   \n",
       "3           10.0                   10.0                306.0   Fully Paid   \n",
       "4           13.0                   32.0                 55.0   Fully Paid   \n",
       "\n",
       "   loan_amnt     month libor  \n",
       "0     3600.0  Dec-2015  0.42  \n",
       "1    24700.0  Dec-2015  0.42  \n",
       "2    10400.0  Dec-2015  0.42  \n",
       "3    20000.0  Dec-2015  0.42  \n",
       "4    20000.0  Dec-2015  0.42  \n",
       "\n",
       "[5 rows x 62 columns]"
      ]
     },
     "execution_count": 225,
     "metadata": {},
     "output_type": "execute_result"
    }
   ],
   "source": [
    "df3['issue_d'] = df3['issue_d'].astype('object')\n",
    "df123 = pd.merge(df3, libor, left_on='issue_d', right_on='month')\n",
    "df123.head()"
   ]
  },
  {
   "cell_type": "code",
   "execution_count": 226,
   "metadata": {},
   "outputs": [
    {
     "data": {
      "text/plain": [
       "(857828, 61)"
      ]
     },
     "execution_count": 226,
     "metadata": {},
     "output_type": "execute_result"
    }
   ],
   "source": [
    "df123 = df123.drop('month', axis=1)\n",
    "df123.shape"
   ]
  },
  {
   "cell_type": "code",
   "execution_count": 230,
   "metadata": {},
   "outputs": [],
   "source": [
    "df123['int_rate_over_libor'] = df123['int_rate']/(df123['libor'])\n",
    "# df123[['issue_d', 'int_rate', 'libor', 'int_rate_over_libor']]"
   ]
  },
  {
   "cell_type": "code",
   "execution_count": 231,
   "metadata": {},
   "outputs": [
    {
     "data": {
      "text/plain": [
       "(857828, 62)"
      ]
     },
     "execution_count": 231,
     "metadata": {},
     "output_type": "execute_result"
    }
   ],
   "source": [
    "df123.shape"
   ]
  },
  {
   "cell_type": "code",
   "execution_count": null,
   "metadata": {},
   "outputs": [],
   "source": []
  }
 ],
 "metadata": {
  "kernelspec": {
   "display_name": "Python 3",
   "language": "python",
   "name": "python3"
  },
  "language_info": {
   "codemirror_mode": {
    "name": "ipython",
    "version": 3
   },
   "file_extension": ".py",
   "mimetype": "text/x-python",
   "name": "python",
   "nbconvert_exporter": "python",
   "pygments_lexer": "ipython3",
   "version": "3.6.8"
  }
 },
 "nbformat": 4,
 "nbformat_minor": 2
}
