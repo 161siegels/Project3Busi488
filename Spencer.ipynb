{
 "cells": [
  {
   "cell_type": "code",
   "execution_count": 1,
   "metadata": {},
   "outputs": [
    {
     "name": "stderr",
     "output_type": "stream",
     "text": [
      "/Users/spencersiegel/opt/anaconda3/lib/python3.7/site-packages/IPython/core/interactiveshell.py:3058: DtypeWarning: Columns (0,19,49,59,118,129,130,131,134,135,136,139,145,146,147) have mixed types. Specify dtype option on import or set low_memory=False.\n",
      "  interactivity=interactivity, compiler=compiler, result=result)\n"
     ]
    }
   ],
   "source": [
    "import pandas as pd\n",
    "data=pd.read_csv('accepted_2007_to_2018Q4.csv')"
   ]
  },
  {
   "cell_type": "markdown",
   "metadata": {},
   "source": [
    "I am looking at columns from total_il_high_credit_limit - hardship_status\n",
    "These are columns 114 to 131"
   ]
  },
  {
   "cell_type": "code",
   "execution_count": 5,
   "metadata": {},
   "outputs": [
    {
     "data": {
      "text/plain": [
       "131"
      ]
     },
     "execution_count": 5,
     "metadata": {},
     "output_type": "execute_result"
    }
   ],
   "source": [
    "list(data.columns).index('total_il_high_credit_limit')\n",
    "list(data.columns).index('hardship_status')"
   ]
  },
  {
   "cell_type": "code",
   "execution_count": 74,
   "metadata": {},
   "outputs": [],
   "source": [
    "my_subset=data.iloc[:,114:131]\n",
    "import dtale\n",
    "#dtale.show(my_subset)"
   ]
  },
  {
   "cell_type": "code",
   "execution_count": 44,
   "metadata": {},
   "outputs": [
    {
     "name": "stdout",
     "output_type": "stream",
     "text": [
      "total_il_high_credit_limit             0.031101\n",
      "revol_bal_joint                        0.952218\n",
      "sec_app_fico_range_low                 0.952218\n",
      "sec_app_fico_range_high                0.952218\n",
      "sec_app_earliest_cr_line               0.952218\n",
      "sec_app_inq_last_6mths                 0.952218\n",
      "sec_app_mort_acc                       0.952218\n",
      "sec_app_open_acc                       0.952218\n",
      "sec_app_revol_util                     0.953030\n",
      "sec_app_open_act_il                    0.952218\n",
      "sec_app_num_rev_accts                  0.952218\n",
      "sec_app_chargeoff_within_12_mths       0.952218\n",
      "sec_app_collections_12_mths_ex_med     0.952218\n",
      "sec_app_mths_since_last_major_derog    0.984101\n",
      "hardship_flag                          0.000015\n",
      "hardship_type                          0.995171\n",
      "hardship_reason                        0.995171\n",
      "dtype: float64\n",
      "total_il_high_credit_limit             194137\n",
      "revol_bal_joint                         56875\n",
      "sec_app_fico_range_low                     62\n",
      "sec_app_fico_range_high                    62\n",
      "sec_app_earliest_cr_line                  663\n",
      "sec_app_inq_last_6mths                      7\n",
      "sec_app_mort_acc                           23\n",
      "sec_app_open_acc                           67\n",
      "sec_app_revol_util                       1216\n",
      "sec_app_open_act_il                        40\n",
      "sec_app_num_rev_accts                      86\n",
      "sec_app_chargeoff_within_12_mths           22\n",
      "sec_app_collections_12_mths_ex_med         18\n",
      "sec_app_mths_since_last_major_derog       140\n",
      "hardship_flag                               2\n",
      "hardship_type                               1\n",
      "hardship_reason                             9\n",
      "dtype: int64\n"
     ]
    }
   ],
   "source": [
    "#4a Are there any missing values? NaN? How many?\n",
    "print(my_subset.isna().sum()/len(my_subset.iloc[:,1:1]))\n",
    "\n",
    "#4b Number of unique values? \n",
    "print(my_subset.nunique())"
   ]
  },
  {
   "cell_type": "markdown",
   "metadata": {},
   "source": [
    "Only column without over 95% NA is Total installment high credit/credit limit"
   ]
  },
  {
   "cell_type": "markdown",
   "metadata": {},
   "source": [
    "Fix categorical and numerical variables. Hardship type only has one possible value (otherwise NA)"
   ]
  },
  {
   "cell_type": "markdown",
   "metadata": {},
   "source": [
    "Can't have no hardship flag but still have hardship type. Let's get rid of these rows \n",
    "\n",
    "Only value for hadship type is 'INTEREST ONLY-3 MONTHS DEFERRAL' so we can drop this column."
   ]
  },
  {
   "cell_type": "code",
   "execution_count": 78,
   "metadata": {},
   "outputs": [
    {
     "data": {
      "text/plain": [
       "0          0.0\n",
       "1          0.0\n",
       "2          0.0\n",
       "3          0.0\n",
       "4          0.0\n",
       "          ... \n",
       "2260696    0.0\n",
       "2260697    0.0\n",
       "2260698    0.0\n",
       "2260699    NaN\n",
       "2260700    NaN\n",
       "Name: hardship_flag, Length: 2260701, dtype: float64"
      ]
     },
     "execution_count": 78,
     "metadata": {},
     "output_type": "execute_result"
    }
   ],
   "source": [
    "my_subset.hardship_type.unique()\n",
    "my_subset.hardship_reason.unique()"
   ]
  },
  {
   "cell_type": "code",
   "execution_count": 79,
   "metadata": {},
   "outputs": [],
   "source": [
    "my_subset.hardship_flag=my_subset.hardship_flag.replace({'N':0}).replace({'Y':1}).astype('float64')"
   ]
  },
  {
   "cell_type": "code",
   "execution_count": 80,
   "metadata": {},
   "outputs": [],
   "source": [
    "my_subset=my_subset[~((my_subset.hardship_flag==0)&(~my_subset.hardship_type.isna()))]\n",
    "my_subset=my_subset[~((my_subset.hardship_flag==0)&(~my_subset.hardship_reason.isna()))]\n",
    "\n",
    "my_subset=my_subset.drop(['hardship_type'],axis=1)\n",
    "my_subset.hardship_flag=my_subset.hardship_flag.astype('category')\n",
    "my_subset.hardship_reason=my_subset.hardship_reason.astype('category')"
   ]
  },
  {
   "cell_type": "code",
   "execution_count": 81,
   "metadata": {},
   "outputs": [],
   "source": [
    "my_subset.sec_app_earliest_cr_line=pd.to_datetime(my_subset['sec_app_earliest_cr_line'])"
   ]
  },
  {
   "cell_type": "markdown",
   "metadata": {},
   "source": [
    "sec_app_fico_range_low is just 4 below high every time. Can remove one of the values"
   ]
  },
  {
   "cell_type": "code",
   "execution_count": 90,
   "metadata": {},
   "outputs": [
    {
     "name": "stdout",
     "output_type": "stream",
     "text": [
      "<class 'pandas.core.frame.DataFrame'>\n",
      "Int64Index: 2250616 entries, 0 to 2260700\n",
      "Data columns (total 15 columns):\n",
      "total_il_high_credit_limit             float64\n",
      "revol_bal_joint                        float64\n",
      "sec_app_fico_range_low                 float64\n",
      "sec_app_earliest_cr_line               datetime64[ns]\n",
      "sec_app_inq_last_6mths                 float64\n",
      "sec_app_mort_acc                       float64\n",
      "sec_app_open_acc                       float64\n",
      "sec_app_revol_util                     float64\n",
      "sec_app_open_act_il                    float64\n",
      "sec_app_num_rev_accts                  float64\n",
      "sec_app_chargeoff_within_12_mths       float64\n",
      "sec_app_collections_12_mths_ex_med     float64\n",
      "sec_app_mths_since_last_major_derog    float64\n",
      "hardship_flag                          category\n",
      "hardship_reason                        category\n",
      "dtypes: category(2), datetime64[ns](1), float64(12)\n",
      "memory usage: 244.7 MB\n"
     ]
    }
   ],
   "source": [
    "my_subset=my_subset.drop(['sec_app_fico_range_high'],axis=1)\n",
    "my_subset.info()"
   ]
  },
  {
   "cell_type": "code",
   "execution_count": null,
   "metadata": {},
   "outputs": [],
   "source": [
    "dtale.show(my_subset)"
   ]
  },
  {
   "cell_type": "code",
   "execution_count": 11,
   "metadata": {},
   "outputs": [
    {
     "data": {
      "image/png": "[encoded data removed]",
      "text/plain": [
       "<Figure size 1008x432 with 1 Axes>"
      ]
     },
     "metadata": {
      "needs_background": "light"
     },
     "output_type": "display_data"
    }
   ],
   "source": [
    "import matplotlib.pyplot as plt\n",
    "import seaborn as sns\n",
    "plt.figure(figsize = (14,6))\n",
    "\n",
    "g = sns.countplot(x=\"loan_status\", data=data, \n",
    "                  color='blue')\n",
    "g.set_xticklabels(g.get_xticklabels(),rotation=45)\n",
    "g.set_xlabel(\"Loan Status Categories\", fontsize=12)\n",
    "g.set_ylabel(\"Count\", fontsize=15)\n",
    "g.set_title(\"Loan Status Types Distribution\", fontsize=20)\n",
    "sizes=[]\n",
    "for p in g.patches:\n",
    "    height = p.get_height()\n",
    "    sizes.append(height)\n",
    "    g.text(p.get_x()+p.get_width()/2.,\n",
    "            height + 3,\n",
    "            '{:1.2f}%'.format(height/len(data)*100),\n",
    "            ha=\"center\", fontsize=12) \n",
    "g.set_ylim(0, max(sizes) * 1.10)\n",
    "\n",
    "plt.show()"
   ]
  }
 ],
 "metadata": {
  "kernelspec": {
   "display_name": "Python 3",
   "language": "python",
   "name": "python3"
  },
  "language_info": {
   "codemirror_mode": {
    "name": "ipython",
    "version": 3
   },
   "file_extension": ".py",
   "mimetype": "text/x-python",
   "name": "python",
   "nbconvert_exporter": "python",
   "pygments_lexer": "ipython3",
   "version": "3.7.4"
  }
 },
 "nbformat": 4,
 "nbformat_minor": 2
}
