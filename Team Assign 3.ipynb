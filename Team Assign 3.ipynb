{
 "cells": [
  {
   "cell_type": "markdown",
   "metadata": {},
   "source": [
    "# Team Assignment 3: Investing in Peer2Peer Lending"
   ]
  },
  {
   "cell_type": "markdown",
   "metadata": {},
   "source": [
    "By: Carter Pace, Austin Cobb, Sarah Parker, Spencer Siegel, Cecilia Zeng, Varun Srivastava"
   ]
  },
  {
   "cell_type": "code",
   "execution_count": 2,
   "metadata": {},
   "outputs": [],
   "source": [
    "import pandas as pd\n",
    "import numpy as np\n",
    "import seaborn as sns"
   ]
  },
  {
   "cell_type": "markdown",
   "metadata": {},
   "source": [
    "# Introduction"
   ]
  },
  {
   "cell_type": "markdown",
   "metadata": {},
   "source": [
    "For this assignment, our team was tasked with assisting Dr. D in his investment strategies, specifically in peer2peer lending. Dr. D came to our team with the idea of putting his funds into the LendingClub platform and decided to invest $10,000,000. Our goal for this assignment is to build a prediction model around the historical data given by LendingClub to predict based on available variables which loans are likely to be fully paid or deafulted. \n",
    "\n",
    "With data consisting of over 151 variables and 30 million records, developing an investment strategy that can be backed by data posed quite the task. Our team recognized that having this many variables can actually be a curse because many of them deceivingly do not have any weight on the decision of whether or not a loan will default.\n",
    "\n",
    "Our first step as a team is to clean up this data, first looking at missing data, outliers, and other irregular patterns, before moving toward feature importance and eliminating factors that do not affect the decision process. "
   ]
  },
  {
   "cell_type": "markdown",
   "metadata": {},
   "source": [
    "# Gathering Data"
   ]
  },
  {
   "cell_type": "markdown",
   "metadata": {},
   "source": [
    "The first step before creating a manageable set of variables to run a prediction model on is first gathering the data set and understanding waht LendingClub provided. \n",
    "\n",
    "First, we read in the data and try to understand the data set's makeup and shape"
   ]
  },
  {
   "cell_type": "code",
   "execution_count": 3,
   "metadata": {},
   "outputs": [
    {
     "name": "stderr",
     "output_type": "stream",
     "text": [
      "/Users/spencersiegel/opt/anaconda3/lib/python3.7/site-packages/IPython/core/interactiveshell.py:3058: DtypeWarning: Columns (0,19,49,59,118,129,130,131,134,135,136,139,145,146,147) have mixed types. Specify dtype option on import or set low_memory=False.\n",
      "  interactivity=interactivity, compiler=compiler, result=result)\n"
     ]
    }
   ],
   "source": [
    "df_accepted = pd.read_csv(\"accepted_2007_to_2018Q4.csv\")"
   ]
  },
  {
   "cell_type": "code",
   "execution_count": 4,
   "metadata": {},
   "outputs": [
    {
     "name": "stdout",
     "output_type": "stream",
     "text": [
      "<class 'pandas.core.frame.DataFrame'>\n",
      "RangeIndex: 2260701 entries, 0 to 2260700\n",
      "Columns: 151 entries, id to settlement_term\n",
      "dtypes: float64(113), object(38)\n",
      "memory usage: 2.5+ GB\n",
      "None\n"
     ]
    }
   ],
   "source": [
    "print(df_accepted.info())"
   ]
  },
  {
   "cell_type": "code",
   "execution_count": 5,
   "metadata": {},
   "outputs": [
    {
     "data": {
      "text/plain": [
       "(2260701, 151)"
      ]
     },
     "execution_count": 5,
     "metadata": {},
     "output_type": "execute_result"
    }
   ],
   "source": [
    "df_accepted.shape"
   ]
  },
  {
   "cell_type": "markdown",
   "metadata": {},
   "source": [
    "The task for this project is to assist Dr. D in developing a smart investment strategy by using historical data to to build a model that predicts the outcome of loans (fully paid, default, etc.). With this question in mind, our response variable is the loan status of the loans in our historical data. "
   ]
  },
  {
   "cell_type": "code",
   "execution_count": 6,
   "metadata": {},
   "outputs": [
    {
     "data": {
      "text/plain": [
       "Fully Paid                                             1076751\n",
       "Current                                                 878317\n",
       "Charged Off                                             268559\n",
       "Late (31-120 days)                                       21467\n",
       "In Grace Period                                           8436\n",
       "Late (16-30 days)                                         4349\n",
       "Does not meet the credit policy. Status:Fully Paid        1988\n",
       "Does not meet the credit policy. Status:Charged Off        761\n",
       "Default                                                     40\n",
       "Name: loan_status, dtype: int64"
      ]
     },
     "execution_count": 6,
     "metadata": {},
     "output_type": "execute_result"
    }
   ],
   "source": [
    "df_accepted.loan_status.value_counts()"
   ]
  },
  {
   "cell_type": "markdown",
   "metadata": {},
   "source": [
    "Based on the above output, the primary values for the loan status are *Fully Paid*, *Current*, *Charged Off*, *Late (31-120 days)*, *In Grace Period*, *Late (16-30 days)*, and *Default*. The *Current* status of loans is not helpful for our task because we do not know the outcome of the loan (whether it is fully paid or defaulted).\n",
    "\n",
    "So, we only included loans that were *Fully Paid*, *Charged Off*, and *Default*. "
   ]
  },
  {
   "cell_type": "code",
   "execution_count": 7,
   "metadata": {},
   "outputs": [],
   "source": [
    "df = df_accepted[df_accepted['loan_status'].isin(['Fully Paid', 'Charged Off', 'Default'])]"
   ]
  },
  {
   "cell_type": "markdown",
   "metadata": {},
   "source": [
    "# Cleaning Data"
   ]
  },
  {
   "cell_type": "markdown",
   "metadata": {},
   "source": [
    "The next step is narrowing down the variables from cleaning the data, before then moving into focusing on feature importance of variables. \n",
    "\n",
    "The first change we made to the data was to only include data entries from the years 2014-2018. When analyzing the data, we disovered that the majority of the entries are between the years 2014 & 2018. We decided to remove all data before the year 2014 for simplification. The main reason we wanted to remove entries from the prior years is becaus from 2007 to 2018, there were many fluctuations in the interest rate that would affect whether a loan would be fully paid or defaulted. Specifically, from 2007-2009, during the rise and fall of the great recession, the interest rate on loans and the ability for people to pay them off changed drastically. To simplify this, we decided to constrict the years, but still aiming to capture the majority of the data. "
   ]
  },
  {
   "cell_type": "code",
   "execution_count": 8,
   "metadata": {},
   "outputs": [
    {
     "name": "stderr",
     "output_type": "stream",
     "text": [
      "/Users/spencersiegel/opt/anaconda3/lib/python3.7/site-packages/ipykernel_launcher.py:1: SettingWithCopyWarning: \n",
      "A value is trying to be set on a copy of a slice from a DataFrame.\n",
      "Try using .loc[row_indexer,col_indexer] = value instead\n",
      "\n",
      "See the caveats in the documentation: http://pandas.pydata.org/pandas-docs/stable/user_guide/indexing.html#returning-a-view-versus-a-copy\n",
      "  \"\"\"Entry point for launching an IPython kernel.\n"
     ]
    }
   ],
   "source": [
    "df['year'] = df['issue_d'].str.strip().str[-4:]"
   ]
  },
  {
   "cell_type": "code",
   "execution_count": 9,
   "metadata": {},
   "outputs": [
    {
     "data": {
      "text/plain": [
       "2015    375546\n",
       "2016    293105\n",
       "2014    223103\n",
       "2017    169321\n",
       "2013    134804\n",
       "2018     56318\n",
       "2012     53367\n",
       "2011     21721\n",
       "2010     11536\n",
       "2009      4716\n",
       "2008      1562\n",
       "2007       251\n",
       "Name: year, dtype: int64"
      ]
     },
     "execution_count": 9,
     "metadata": {},
     "output_type": "execute_result"
    }
   ],
   "source": [
    "df.year.value_counts()"
   ]
  },
  {
   "cell_type": "code",
   "execution_count": 10,
   "metadata": {},
   "outputs": [],
   "source": [
    "df = df[df['year'].isin(['2014', '2015', '2016', '2017', '2018'])]"
   ]
  },
  {
   "cell_type": "code",
   "execution_count": 11,
   "metadata": {},
   "outputs": [
    {
     "data": {
      "text/plain": [
       "(1117393, 152)"
      ]
     },
     "execution_count": 11,
     "metadata": {},
     "output_type": "execute_result"
    }
   ],
   "source": [
    "df.shape"
   ]
  },
  {
   "cell_type": "code",
   "execution_count": 12,
   "metadata": {},
   "outputs": [
    {
     "data": {
      "text/plain": [
       "Index(['id', 'member_id', 'loan_amnt', 'funded_amnt', 'funded_amnt_inv',\n",
       "       'term', 'int_rate', 'installment', 'grade', 'sub_grade',\n",
       "       ...\n",
       "       'hardship_last_payment_amount', 'disbursement_method',\n",
       "       'debt_settlement_flag', 'debt_settlement_flag_date',\n",
       "       'settlement_status', 'settlement_date', 'settlement_amount',\n",
       "       'settlement_percentage', 'settlement_term', 'year'],\n",
       "      dtype='object', length=152)"
      ]
     },
     "execution_count": 12,
     "metadata": {},
     "output_type": "execute_result"
    }
   ],
   "source": [
    "df.columns"
   ]
  },
  {
   "cell_type": "code",
   "execution_count": 13,
   "metadata": {},
   "outputs": [],
   "source": [
    "total_num = df.isnull().sum().sort_values(ascending=False)"
   ]
  },
  {
   "cell_type": "markdown",
   "metadata": {},
   "source": [
    "The next step is to handle any missing data in the data set. First, we looked at the total number of missing values for each column and what percentage the missing values make up of the total values for that column."
   ]
  },
  {
   "cell_type": "code",
   "execution_count": 14,
   "metadata": {},
   "outputs": [
    {
     "name": "stderr",
     "output_type": "stream",
     "text": [
      "/Users/spencersiegel/opt/anaconda3/lib/python3.7/site-packages/ipykernel_launcher.py:5: FutureWarning: Sorting because non-concatenation axis is not aligned. A future version\n",
      "of pandas will change to not sort by default.\n",
      "\n",
      "To accept the future behavior, pass 'sort=False'.\n",
      "\n",
      "To retain the current behavior and silence the warning, pass 'sort=True'.\n",
      "\n",
      "  \"\"\"\n"
     ]
    }
   ],
   "source": [
    "perc = df.isnull().sum()/df.isnull().count() *100\n",
    "perc1 = (round(perc,2).sort_values(ascending=False))\n",
    "\n",
    "# Creating a data frame:\n",
    "df_miss = pd.concat([total_num, perc1], axis =1 , keys =[\"Total Missing Values\", \"Percentage %\"]).sort_values(by =\"Percentage %\", ascending = False)"
   ]
  },
  {
   "cell_type": "markdown",
   "metadata": {},
   "source": [
    "As a team, we decided to only include columns that have missing values comprising of less than 10% of the total number of values. Any variables that have more than 10% of their values missing should not be imputed because there is not enough information to accurately impute the missing values. "
   ]
  },
  {
   "cell_type": "code",
   "execution_count": 15,
   "metadata": {},
   "outputs": [],
   "source": [
    "top_mis = df_miss[df_miss[\"Percentage %\"]<10]\n",
    "top_mis.reset_index(inplace=True)\n",
    "vals = list(top_mis['index'])"
   ]
  },
  {
   "cell_type": "markdown",
   "metadata": {},
   "source": [
    "With the below output, we have now removed any columns with more than 10% missing data. Our team checked the shape of the data and have now narrowed the columns down from 151 to 94. "
   ]
  },
  {
   "cell_type": "code",
   "execution_count": 16,
   "metadata": {},
   "outputs": [],
   "source": [
    "df = df[vals]"
   ]
  },
  {
   "cell_type": "code",
   "execution_count": 17,
   "metadata": {},
   "outputs": [
    {
     "data": {
      "text/plain": [
       "(1117393, 94)"
      ]
     },
     "execution_count": 17,
     "metadata": {},
     "output_type": "execute_result"
    }
   ],
   "source": [
    "df.shape"
   ]
  },
  {
   "cell_type": "markdown",
   "metadata": {},
   "source": [
    "Before handling the rest of the missing values, our team analyzed the correlations between variables. Variables that are highly correlated or highly inversely correlated have a strong relationship and can give the same information and can skew the results. Specifically, we are only looking at correlation between numerical variables. Correlation between categorical variables does not give any useful information. "
   ]
  },
  {
   "cell_type": "code",
   "execution_count": 18,
   "metadata": {},
   "outputs": [
    {
     "data": {
      "text/plain": [
       "policy_code               1\n",
       "num_tl_30dpd              5\n",
       "num_tl_120dpd_2m          6\n",
       "inq_last_6mths            7\n",
       "acc_now_delinq            8\n",
       "                     ...   \n",
       "tot_hi_cred_lim      405183\n",
       "total_rec_int        464335\n",
       "last_pymnt_amnt      615096\n",
       "total_pymnt_inv      878429\n",
       "total_pymnt         1047106\n",
       "Length: 69, dtype: int64"
      ]
     },
     "execution_count": 18,
     "metadata": {},
     "output_type": "execute_result"
    }
   ],
   "source": [
    "num_feat = df.select_dtypes('number').columns.values\n",
    "df[num_feat].nunique().sort_values()"
   ]
  },
  {
   "cell_type": "code",
   "execution_count": 19,
   "metadata": {},
   "outputs": [
    {
     "name": "stderr",
     "output_type": "stream",
     "text": [
      "/Users/spencersiegel/opt/anaconda3/lib/python3.7/site-packages/scipy/stats/stats.py:3399: PearsonRConstantInputWarning: An input array is constant; the correlation coefficent is not defined.\n",
      "  warnings.warn(PearsonRConstantInputWarning())\n"
     ]
    }
   ],
   "source": [
    "from itertools import combinations\n",
    "from scipy.stats import pearsonr\n",
    "\n",
    "df2 = df.dropna()\n",
    "num_feat = df2.select_dtypes('number').columns.values\n",
    "comb_num_feat = np.array(list(combinations(num_feat, 2)))\n",
    "corr_num_feat = np.array([])\n",
    "for comb in comb_num_feat:\n",
    "    corr = pearsonr(df2[comb[0]], df2[comb[1]])[0]\n",
    "    corr_num_feat = np.append(corr_num_feat, corr)"
   ]
  },
  {
   "cell_type": "code",
   "execution_count": 20,
   "metadata": {},
   "outputs": [
    {
     "data": {
      "text/plain": [
       "array([ 0.00099082, -0.01138136,  0.09027688, ...,  0.51358516,\n",
       "        0.04309921,  0.25589371])"
      ]
     },
     "execution_count": 20,
     "metadata": {},
     "output_type": "execute_result"
    }
   ],
   "source": [
    "corr_num_feat"
   ]
  },
  {
   "cell_type": "markdown",
   "metadata": {},
   "source": [
    "The above output gives the correlation between each pair of variables. Our team decided that any correlation about 0.8 in absolute value is too high and one of the variables within that correlation should be dropped. The variable dropped in the highly correlated pair was arbitrary because high correlation gives the same information in both variables. "
   ]
  },
  {
   "cell_type": "code",
   "execution_count": 21,
   "metadata": {},
   "outputs": [
    {
     "name": "stderr",
     "output_type": "stream",
     "text": [
      "/Users/spencersiegel/opt/anaconda3/lib/python3.7/site-packages/ipykernel_launcher.py:1: RuntimeWarning: invalid value encountered in greater_equal\n",
      "  \"\"\"Entry point for launching an IPython kernel.\n"
     ]
    },
    {
     "data": {
      "text/plain": [
       "array([['bc_util', 'percent_bc_gt_75'],\n",
       "       ['bc_util', 'revol_util'],\n",
       "       ['bc_open_to_buy', 'total_bc_limit'],\n",
       "       ['revol_bal', 'total_rev_hi_lim'],\n",
       "       ['recoveries', 'collection_recovery_fee'],\n",
       "       ['total_pymnt_inv', 'total_rec_prncp'],\n",
       "       ['total_pymnt_inv', 'total_pymnt'],\n",
       "       ['total_pymnt_inv', 'installment'],\n",
       "       ['total_pymnt_inv', 'funded_amnt_inv'],\n",
       "       ['total_pymnt_inv', 'funded_amnt'],\n",
       "       ['total_pymnt_inv', 'loan_amnt'],\n",
       "       ['total_rec_prncp', 'total_pymnt'],\n",
       "       ['total_pymnt', 'installment'],\n",
       "       ['total_pymnt', 'funded_amnt_inv'],\n",
       "       ['total_pymnt', 'funded_amnt'],\n",
       "       ['total_pymnt', 'loan_amnt'],\n",
       "       ['total_il_high_credit_limit', 'total_bal_ex_mort'],\n",
       "       ['tot_hi_cred_lim', 'tot_cur_bal'],\n",
       "       ['tot_cur_bal', 'avg_cur_bal'],\n",
       "       ['num_actv_bc_tl', 'num_bc_sats'],\n",
       "       ['num_actv_bc_tl', 'num_rev_tl_bal_gt_0'],\n",
       "       ['num_actv_bc_tl', 'num_actv_rev_tl'],\n",
       "       ['out_prncp_inv', 'out_prncp'],\n",
       "       ['installment', 'funded_amnt_inv'],\n",
       "       ['installment', 'funded_amnt'],\n",
       "       ['installment', 'loan_amnt'],\n",
       "       ['funded_amnt_inv', 'funded_amnt'],\n",
       "       ['funded_amnt_inv', 'loan_amnt'],\n",
       "       ['funded_amnt', 'loan_amnt'],\n",
       "       ['fico_range_low', 'fico_range_high'],\n",
       "       ['open_acc', 'num_sats'],\n",
       "       ['open_acc', 'num_op_rev_tl'],\n",
       "       ['num_sats', 'num_op_rev_tl'],\n",
       "       ['num_rev_tl_bal_gt_0', 'num_actv_rev_tl'],\n",
       "       ['num_rev_accts', 'num_bc_tl'],\n",
       "       ['last_fico_range_high', 'last_fico_range_low']], dtype='<U26')"
      ]
     },
     "execution_count": 21,
     "metadata": {},
     "output_type": "execute_result"
    }
   ],
   "source": [
    "high_corr_num = comb_num_feat[np.abs(corr_num_feat) >= 0.8]\n",
    "high_corr_num"
   ]
  },
  {
   "cell_type": "code",
   "execution_count": 22,
   "metadata": {},
   "outputs": [
    {
     "data": {
      "text/plain": [
       "(1117393, 73)"
      ]
     },
     "execution_count": 22,
     "metadata": {},
     "output_type": "execute_result"
    }
   ],
   "source": [
    "df3 = df.drop(np.unique(high_corr_num[:, 0]), axis=1, errors='ignore')\n",
    "df3.shape"
   ]
  },
  {
   "cell_type": "code",
   "execution_count": 23,
   "metadata": {},
   "outputs": [
    {
     "data": {
      "text/html": [
       "<div>\n",
       "<style scoped>\n",
       "    .dataframe tbody tr th:only-of-type {\n",
       "        vertical-align: middle;\n",
       "    }\n",
       "\n",
       "    .dataframe tbody tr th {\n",
       "        vertical-align: top;\n",
       "    }\n",
       "\n",
       "    .dataframe thead th {\n",
       "        text-align: right;\n",
       "    }\n",
       "</style>\n",
       "<table border=\"1\" class=\"dataframe\">\n",
       "  <thead>\n",
       "    <tr style=\"text-align: right;\">\n",
       "      <th></th>\n",
       "      <th>mths_since_recent_inq</th>\n",
       "      <th>emp_title</th>\n",
       "      <th>emp_length</th>\n",
       "      <th>num_tl_120dpd_2m</th>\n",
       "      <th>mo_sin_old_il_acct</th>\n",
       "      <th>title</th>\n",
       "      <th>percent_bc_gt_75</th>\n",
       "      <th>mths_since_recent_bc</th>\n",
       "      <th>last_pymnt_d</th>\n",
       "      <th>revol_util</th>\n",
       "      <th>...</th>\n",
       "      <th>num_accts_ever_120_pd</th>\n",
       "      <th>mort_acc</th>\n",
       "      <th>mo_sin_rcnt_tl</th>\n",
       "      <th>mo_sin_rcnt_rev_tl_op</th>\n",
       "      <th>mo_sin_old_rev_tl_op</th>\n",
       "      <th>loan_status</th>\n",
       "      <th>loan_amnt</th>\n",
       "      <th>last_pymnt_amnt</th>\n",
       "      <th>last_fico_range_low</th>\n",
       "      <th>zip_code</th>\n",
       "    </tr>\n",
       "  </thead>\n",
       "  <tbody>\n",
       "    <tr>\n",
       "      <td>0</td>\n",
       "      <td>4.0</td>\n",
       "      <td>leadman</td>\n",
       "      <td>10+ years</td>\n",
       "      <td>0.0</td>\n",
       "      <td>148.0</td>\n",
       "      <td>Debt consolidation</td>\n",
       "      <td>0.0</td>\n",
       "      <td>4.0</td>\n",
       "      <td>Jan-2019</td>\n",
       "      <td>29.7</td>\n",
       "      <td>...</td>\n",
       "      <td>2.0</td>\n",
       "      <td>1.0</td>\n",
       "      <td>3.0</td>\n",
       "      <td>3.0</td>\n",
       "      <td>128.0</td>\n",
       "      <td>Fully Paid</td>\n",
       "      <td>3600.0</td>\n",
       "      <td>122.67</td>\n",
       "      <td>560.0</td>\n",
       "      <td>190xx</td>\n",
       "    </tr>\n",
       "    <tr>\n",
       "      <td>1</td>\n",
       "      <td>0.0</td>\n",
       "      <td>Engineer</td>\n",
       "      <td>10+ years</td>\n",
       "      <td>0.0</td>\n",
       "      <td>113.0</td>\n",
       "      <td>Business</td>\n",
       "      <td>7.7</td>\n",
       "      <td>2.0</td>\n",
       "      <td>Jun-2016</td>\n",
       "      <td>19.2</td>\n",
       "      <td>...</td>\n",
       "      <td>0.0</td>\n",
       "      <td>4.0</td>\n",
       "      <td>2.0</td>\n",
       "      <td>2.0</td>\n",
       "      <td>192.0</td>\n",
       "      <td>Fully Paid</td>\n",
       "      <td>24700.0</td>\n",
       "      <td>926.35</td>\n",
       "      <td>695.0</td>\n",
       "      <td>577xx</td>\n",
       "    </tr>\n",
       "    <tr>\n",
       "      <td>2</td>\n",
       "      <td>10.0</td>\n",
       "      <td>truck driver</td>\n",
       "      <td>10+ years</td>\n",
       "      <td>0.0</td>\n",
       "      <td>125.0</td>\n",
       "      <td>NaN</td>\n",
       "      <td>50.0</td>\n",
       "      <td>101.0</td>\n",
       "      <td>Jun-2017</td>\n",
       "      <td>56.2</td>\n",
       "      <td>...</td>\n",
       "      <td>0.0</td>\n",
       "      <td>5.0</td>\n",
       "      <td>14.0</td>\n",
       "      <td>14.0</td>\n",
       "      <td>184.0</td>\n",
       "      <td>Fully Paid</td>\n",
       "      <td>20000.0</td>\n",
       "      <td>15813.30</td>\n",
       "      <td>700.0</td>\n",
       "      <td>605xx</td>\n",
       "    </tr>\n",
       "    <tr>\n",
       "      <td>4</td>\n",
       "      <td>1.0</td>\n",
       "      <td>Contract Specialist</td>\n",
       "      <td>3 years</td>\n",
       "      <td>0.0</td>\n",
       "      <td>128.0</td>\n",
       "      <td>Major purchase</td>\n",
       "      <td>60.0</td>\n",
       "      <td>4.0</td>\n",
       "      <td>Jul-2016</td>\n",
       "      <td>64.5</td>\n",
       "      <td>...</td>\n",
       "      <td>0.0</td>\n",
       "      <td>6.0</td>\n",
       "      <td>4.0</td>\n",
       "      <td>4.0</td>\n",
       "      <td>210.0</td>\n",
       "      <td>Fully Paid</td>\n",
       "      <td>10400.0</td>\n",
       "      <td>10128.96</td>\n",
       "      <td>700.0</td>\n",
       "      <td>174xx</td>\n",
       "    </tr>\n",
       "    <tr>\n",
       "      <td>5</td>\n",
       "      <td>NaN</td>\n",
       "      <td>Veterinary Tecnician</td>\n",
       "      <td>4 years</td>\n",
       "      <td>0.0</td>\n",
       "      <td>338.0</td>\n",
       "      <td>Debt consolidation</td>\n",
       "      <td>100.0</td>\n",
       "      <td>36.0</td>\n",
       "      <td>May-2017</td>\n",
       "      <td>68.4</td>\n",
       "      <td>...</td>\n",
       "      <td>0.0</td>\n",
       "      <td>0.0</td>\n",
       "      <td>32.0</td>\n",
       "      <td>32.0</td>\n",
       "      <td>54.0</td>\n",
       "      <td>Fully Paid</td>\n",
       "      <td>11950.0</td>\n",
       "      <td>7653.56</td>\n",
       "      <td>755.0</td>\n",
       "      <td>300xx</td>\n",
       "    </tr>\n",
       "  </tbody>\n",
       "</table>\n",
       "<p>5 rows × 73 columns</p>\n",
       "</div>"
      ],
      "text/plain": [
       "   mths_since_recent_inq             emp_title emp_length  num_tl_120dpd_2m  \\\n",
       "0                    4.0               leadman  10+ years               0.0   \n",
       "1                    0.0              Engineer  10+ years               0.0   \n",
       "2                   10.0          truck driver  10+ years               0.0   \n",
       "4                    1.0   Contract Specialist    3 years               0.0   \n",
       "5                    NaN  Veterinary Tecnician    4 years               0.0   \n",
       "\n",
       "   mo_sin_old_il_acct               title  percent_bc_gt_75  \\\n",
       "0               148.0  Debt consolidation               0.0   \n",
       "1               113.0            Business               7.7   \n",
       "2               125.0                 NaN              50.0   \n",
       "4               128.0      Major purchase              60.0   \n",
       "5               338.0  Debt consolidation             100.0   \n",
       "\n",
       "   mths_since_recent_bc last_pymnt_d  revol_util  ...  num_accts_ever_120_pd  \\\n",
       "0                   4.0     Jan-2019        29.7  ...                    2.0   \n",
       "1                   2.0     Jun-2016        19.2  ...                    0.0   \n",
       "2                 101.0     Jun-2017        56.2  ...                    0.0   \n",
       "4                   4.0     Jul-2016        64.5  ...                    0.0   \n",
       "5                  36.0     May-2017        68.4  ...                    0.0   \n",
       "\n",
       "  mort_acc  mo_sin_rcnt_tl  mo_sin_rcnt_rev_tl_op  mo_sin_old_rev_tl_op  \\\n",
       "0      1.0             3.0                    3.0                 128.0   \n",
       "1      4.0             2.0                    2.0                 192.0   \n",
       "2      5.0            14.0                   14.0                 184.0   \n",
       "4      6.0             4.0                    4.0                 210.0   \n",
       "5      0.0            32.0                   32.0                  54.0   \n",
       "\n",
       "  loan_status  loan_amnt last_pymnt_amnt  last_fico_range_low zip_code  \n",
       "0  Fully Paid     3600.0          122.67                560.0    190xx  \n",
       "1  Fully Paid    24700.0          926.35                695.0    577xx  \n",
       "2  Fully Paid    20000.0        15813.30                700.0    605xx  \n",
       "4  Fully Paid    10400.0        10128.96                700.0    174xx  \n",
       "5  Fully Paid    11950.0         7653.56                755.0    300xx  \n",
       "\n",
       "[5 rows x 73 columns]"
      ]
     },
     "execution_count": 23,
     "metadata": {},
     "output_type": "execute_result"
    }
   ],
   "source": [
    "df3.head()"
   ]
  },
  {
   "cell_type": "code",
   "execution_count": 24,
   "metadata": {},
   "outputs": [
    {
     "data": {
      "text/plain": [
       "Fully Paid     884132\n",
       "Charged Off    233221\n",
       "Default            40\n",
       "Name: loan_status, dtype: int64"
      ]
     },
     "execution_count": 24,
     "metadata": {},
     "output_type": "execute_result"
    }
   ],
   "source": [
    "df3['loan_status'].value_counts()"
   ]
  },
  {
   "cell_type": "markdown",
   "metadata": {},
   "source": [
    "Now that we have narrowed down the numerical variables from the correlation, our team then decided to break out the variables identified as 'object'to narrow down the list of variables and determine which can be removed before creating the prediction model."
   ]
  },
  {
   "cell_type": "code",
   "execution_count": 25,
   "metadata": {},
   "outputs": [],
   "source": [
    "df4 = df3.select_dtypes(include='object')"
   ]
  },
  {
   "cell_type": "code",
   "execution_count": 26,
   "metadata": {},
   "outputs": [
    {
     "name": "stdout",
     "output_type": "stream",
     "text": [
      "<class 'pandas.core.frame.DataFrame'>\n",
      "Int64Index: 1117393 entries, 0 to 2260697\n",
      "Data columns (total 25 columns):\n",
      "emp_title               1045806 non-null object\n",
      "emp_length              1047842 non-null object\n",
      "title                   1100752 non-null object\n",
      "last_pymnt_d            1115301 non-null object\n",
      "pymnt_plan              1117393 non-null object\n",
      "purpose                 1117393 non-null object\n",
      "sub_grade               1117393 non-null object\n",
      "year                    1117393 non-null object\n",
      "verification_status     1117393 non-null object\n",
      "url                     1117393 non-null object\n",
      "term                    1117393 non-null object\n",
      "initial_list_status     1117393 non-null object\n",
      "id                      1117393 non-null object\n",
      "home_ownership          1117393 non-null object\n",
      "hardship_flag           1117393 non-null object\n",
      "grade                   1117393 non-null object\n",
      "earliest_cr_line        1117393 non-null object\n",
      "disbursement_method     1117393 non-null object\n",
      "debt_settlement_flag    1117393 non-null object\n",
      "application_type        1117393 non-null object\n",
      "addr_state              1117393 non-null object\n",
      "issue_d                 1117393 non-null object\n",
      "last_credit_pull_d      1117350 non-null object\n",
      "loan_status             1117393 non-null object\n",
      "zip_code                1117392 non-null object\n",
      "dtypes: object(25)\n",
      "memory usage: 221.7+ MB\n"
     ]
    }
   ],
   "source": [
    "df4.info()"
   ]
  },
  {
   "cell_type": "markdown",
   "metadata": {},
   "source": [
    "After looking at the list of variables labeled as 'object', there were many that does any give any information to indicate the status of the loan (fully paid, defaulted). Some of these include the id, the url of the loan, and the self-made title of the loan. Additionally, we removed variables that are reduntant with other variables that are already included. Lastly, we removed to numerical variables that were missed in the correlation count. "
   ]
  },
  {
   "cell_type": "code",
   "execution_count": 27,
   "metadata": {},
   "outputs": [],
   "source": [
    "drop_col = ['emp_title', \n",
    "            'title', \n",
    "            'last_pymnt_d', \n",
    "            'pymnt_plan', \n",
    "            'url', \n",
    "            'id', \n",
    "            'hardship_flag', \n",
    "            'grade', \n",
    "            'earliest_cr_line', \n",
    "            'year', \n",
    "            'last_credit_pull_d', \n",
    "            'zip_code',\n",
    "            \n",
    "            ##numerical variables\n",
    "            'last_fico_range_low',\n",
    "            'last_pymnt_amnt',\n",
    "            ]"
   ]
  },
  {
   "cell_type": "code",
   "execution_count": 28,
   "metadata": {},
   "outputs": [],
   "source": [
    "df3 = df3.drop(drop_col, axis=1)"
   ]
  },
  {
   "cell_type": "markdown",
   "metadata": {},
   "source": [
    "After dropping these variables, we are left with only 59 out of 151, getting closer to a much more manageable number of variables to run a model on. "
   ]
  },
  {
   "cell_type": "code",
   "execution_count": 29,
   "metadata": {},
   "outputs": [
    {
     "data": {
      "text/plain": [
       "(1117393, 59)"
      ]
     },
     "execution_count": 29,
     "metadata": {},
     "output_type": "execute_result"
    }
   ],
   "source": [
    "df3.shape"
   ]
  },
  {
   "cell_type": "code",
   "execution_count": 30,
   "metadata": {
    "scrolled": true
   },
   "outputs": [
    {
     "name": "stdout",
     "output_type": "stream",
     "text": [
      "<class 'pandas.core.frame.DataFrame'>\n",
      "Int64Index: 1117393 entries, 0 to 2260697\n",
      "Data columns (total 59 columns):\n",
      "mths_since_recent_inq         1010973 non-null float64\n",
      "emp_length                    1047842 non-null object\n",
      "num_tl_120dpd_2m              1067773 non-null float64\n",
      "mo_sin_old_il_acct            1085475 non-null float64\n",
      "percent_bc_gt_75              1104650 non-null float64\n",
      "mths_since_recent_bc          1105784 non-null float64\n",
      "revol_util                    1116711 non-null float64\n",
      "dti                           1117019 non-null float64\n",
      "policy_code                   1117393 non-null float64\n",
      "pub_rec                       1117393 non-null float64\n",
      "pub_rec_bankruptcies          1117393 non-null float64\n",
      "purpose                       1117393 non-null object\n",
      "acc_now_delinq                1117393 non-null float64\n",
      "sub_grade                     1117393 non-null object\n",
      "tax_liens                     1117393 non-null float64\n",
      "verification_status           1117393 non-null object\n",
      "total_rev_hi_lim              1117393 non-null float64\n",
      "total_rec_late_fee            1117393 non-null float64\n",
      "total_rec_int                 1117393 non-null float64\n",
      "term                          1117393 non-null object\n",
      "total_bc_limit                1117393 non-null float64\n",
      "total_bal_ex_mort             1117393 non-null float64\n",
      "total_acc                     1117393 non-null float64\n",
      "tot_coll_amt                  1117393 non-null float64\n",
      "pct_tl_nvr_dlq                1117392 non-null float64\n",
      "out_prncp                     1117393 non-null float64\n",
      "inq_last_6mths                1117392 non-null float64\n",
      "initial_list_status           1117393 non-null object\n",
      "home_ownership                1117393 non-null object\n",
      "fico_range_high               1117393 non-null float64\n",
      "disbursement_method           1117393 non-null object\n",
      "delinq_amnt                   1117393 non-null float64\n",
      "delinq_2yrs                   1117393 non-null float64\n",
      "debt_settlement_flag          1117393 non-null object\n",
      "collections_12_mths_ex_med    1117393 non-null float64\n",
      "collection_recovery_fee       1117393 non-null float64\n",
      "chargeoff_within_12_mths      1117393 non-null float64\n",
      "avg_cur_bal                   1117377 non-null float64\n",
      "application_type              1117393 non-null object\n",
      "annual_inc                    1117393 non-null float64\n",
      "addr_state                    1117393 non-null object\n",
      "int_rate                      1117393 non-null float64\n",
      "issue_d                       1117393 non-null object\n",
      "num_bc_sats                   1117393 non-null float64\n",
      "num_tl_op_past_12m            1117393 non-null float64\n",
      "num_tl_90g_dpd_24m            1117393 non-null float64\n",
      "num_tl_30dpd                  1117393 non-null float64\n",
      "num_op_rev_tl                 1117393 non-null float64\n",
      "num_il_tl                     1117393 non-null float64\n",
      "num_bc_tl                     1117393 non-null float64\n",
      "num_actv_rev_tl               1117393 non-null float64\n",
      "acc_open_past_24mths          1117393 non-null float64\n",
      "num_accts_ever_120_pd         1117393 non-null float64\n",
      "mort_acc                      1117393 non-null float64\n",
      "mo_sin_rcnt_tl                1117393 non-null float64\n",
      "mo_sin_rcnt_rev_tl_op         1117393 non-null float64\n",
      "mo_sin_old_rev_tl_op          1117393 non-null float64\n",
      "loan_status                   1117393 non-null object\n",
      "loan_amnt                     1117393 non-null float64\n",
      "dtypes: float64(46), object(13)\n",
      "memory usage: 511.5+ MB\n"
     ]
    }
   ],
   "source": [
    "df3.info()"
   ]
  },
  {
   "cell_type": "markdown",
   "metadata": {},
   "source": [
    "With the remaining 'object' labeled variables, the team cast them to categorical variables to continue the analysis. Futher along in this notebook, we will create dummy variables out of the categorical variables to run the model. "
   ]
  },
  {
   "cell_type": "code",
   "execution_count": 31,
   "metadata": {},
   "outputs": [],
   "source": [
    "df4 = df3.select_dtypes(include='object')\n",
    "categorical_features = list(df4.columns)"
   ]
  },
  {
   "cell_type": "code",
   "execution_count": 32,
   "metadata": {},
   "outputs": [],
   "source": [
    "for col in categorical_features:\n",
    "    df3[col] = df3[col].astype('category')"
   ]
  },
  {
   "cell_type": "code",
   "execution_count": 33,
   "metadata": {},
   "outputs": [],
   "source": [
    "df3['policy_code'] = df3['policy_code'].astype('category')"
   ]
  },
  {
   "cell_type": "code",
   "execution_count": 34,
   "metadata": {},
   "outputs": [
    {
     "name": "stdout",
     "output_type": "stream",
     "text": [
      "<class 'pandas.core.frame.DataFrame'>\n",
      "Int64Index: 1117393 entries, 0 to 2260697\n",
      "Data columns (total 59 columns):\n",
      "mths_since_recent_inq         1010973 non-null float64\n",
      "emp_length                    1047842 non-null category\n",
      "num_tl_120dpd_2m              1067773 non-null float64\n",
      "mo_sin_old_il_acct            1085475 non-null float64\n",
      "percent_bc_gt_75              1104650 non-null float64\n",
      "mths_since_recent_bc          1105784 non-null float64\n",
      "revol_util                    1116711 non-null float64\n",
      "dti                           1117019 non-null float64\n",
      "policy_code                   1117393 non-null category\n",
      "pub_rec                       1117393 non-null float64\n",
      "pub_rec_bankruptcies          1117393 non-null float64\n",
      "purpose                       1117393 non-null category\n",
      "acc_now_delinq                1117393 non-null float64\n",
      "sub_grade                     1117393 non-null category\n",
      "tax_liens                     1117393 non-null float64\n",
      "verification_status           1117393 non-null category\n",
      "total_rev_hi_lim              1117393 non-null float64\n",
      "total_rec_late_fee            1117393 non-null float64\n",
      "total_rec_int                 1117393 non-null float64\n",
      "term                          1117393 non-null category\n",
      "total_bc_limit                1117393 non-null float64\n",
      "total_bal_ex_mort             1117393 non-null float64\n",
      "total_acc                     1117393 non-null float64\n",
      "tot_coll_amt                  1117393 non-null float64\n",
      "pct_tl_nvr_dlq                1117392 non-null float64\n",
      "out_prncp                     1117393 non-null float64\n",
      "inq_last_6mths                1117392 non-null float64\n",
      "initial_list_status           1117393 non-null category\n",
      "home_ownership                1117393 non-null category\n",
      "fico_range_high               1117393 non-null float64\n",
      "disbursement_method           1117393 non-null category\n",
      "delinq_amnt                   1117393 non-null float64\n",
      "delinq_2yrs                   1117393 non-null float64\n",
      "debt_settlement_flag          1117393 non-null category\n",
      "collections_12_mths_ex_med    1117393 non-null float64\n",
      "collection_recovery_fee       1117393 non-null float64\n",
      "chargeoff_within_12_mths      1117393 non-null float64\n",
      "avg_cur_bal                   1117377 non-null float64\n",
      "application_type              1117393 non-null category\n",
      "annual_inc                    1117393 non-null float64\n",
      "addr_state                    1117393 non-null category\n",
      "int_rate                      1117393 non-null float64\n",
      "issue_d                       1117393 non-null category\n",
      "num_bc_sats                   1117393 non-null float64\n",
      "num_tl_op_past_12m            1117393 non-null float64\n",
      "num_tl_90g_dpd_24m            1117393 non-null float64\n",
      "num_tl_30dpd                  1117393 non-null float64\n",
      "num_op_rev_tl                 1117393 non-null float64\n",
      "num_il_tl                     1117393 non-null float64\n",
      "num_bc_tl                     1117393 non-null float64\n",
      "num_actv_rev_tl               1117393 non-null float64\n",
      "acc_open_past_24mths          1117393 non-null float64\n",
      "num_accts_ever_120_pd         1117393 non-null float64\n",
      "mort_acc                      1117393 non-null float64\n",
      "mo_sin_rcnt_tl                1117393 non-null float64\n",
      "mo_sin_rcnt_rev_tl_op         1117393 non-null float64\n",
      "mo_sin_old_rev_tl_op          1117393 non-null float64\n",
      "loan_status                   1117393 non-null category\n",
      "loan_amnt                     1117393 non-null float64\n",
      "dtypes: category(14), float64(45)\n",
      "memory usage: 407.1 MB\n"
     ]
    }
   ],
   "source": [
    "df3.info()"
   ]
  },
  {
   "cell_type": "markdown",
   "metadata": {},
   "source": [
    "# Finetuning the Model"
   ]
  },
  {
   "cell_type": "markdown",
   "metadata": {},
   "source": [
    "The next section of the notebook walks through our team's process of removing variables based on feature importance to continue finetuning the model down to something that can adequately predict what the status of a loan will be. Before that, we decided to include a new variable, *libor*, which is the London average interest rate of banks. The purpose of this new variable is to standardize the interest rates across years to take out any variability that occurs from external factors during that time. "
   ]
  },
  {
   "cell_type": "code",
   "execution_count": 35,
   "metadata": {},
   "outputs": [
    {
     "data": {
      "text/html": [
       "<div>\n",
       "<style scoped>\n",
       "    .dataframe tbody tr th:only-of-type {\n",
       "        vertical-align: middle;\n",
       "    }\n",
       "\n",
       "    .dataframe tbody tr th {\n",
       "        vertical-align: top;\n",
       "    }\n",
       "\n",
       "    .dataframe thead th {\n",
       "        text-align: right;\n",
       "    }\n",
       "</style>\n",
       "<table border=\"1\" class=\"dataframe\">\n",
       "  <thead>\n",
       "    <tr style=\"text-align: right;\">\n",
       "      <th></th>\n",
       "      <th>month</th>\n",
       "      <th>libor</th>\n",
       "    </tr>\n",
       "  </thead>\n",
       "  <tbody>\n",
       "    <tr>\n",
       "      <td>0</td>\n",
       "      <td>Jan-2020</td>\n",
       "      <td>1.66</td>\n",
       "    </tr>\n",
       "    <tr>\n",
       "      <td>1</td>\n",
       "      <td>Dec-2019</td>\n",
       "      <td>1.76</td>\n",
       "    </tr>\n",
       "    <tr>\n",
       "      <td>2</td>\n",
       "      <td>Nov-2019</td>\n",
       "      <td>1.69</td>\n",
       "    </tr>\n",
       "    <tr>\n",
       "      <td>3</td>\n",
       "      <td>Oct-2019</td>\n",
       "      <td>1.79</td>\n",
       "    </tr>\n",
       "    <tr>\n",
       "      <td>4</td>\n",
       "      <td>Sep-2019</td>\n",
       "      <td>2.02</td>\n",
       "    </tr>\n",
       "  </tbody>\n",
       "</table>\n",
       "</div>"
      ],
      "text/plain": [
       "      month  libor\n",
       "0  Jan-2020   1.66\n",
       "1  Dec-2019   1.76\n",
       "2  Nov-2019   1.69\n",
       "3  Oct-2019   1.79\n",
       "4  Sep-2019   2.02"
      ]
     },
     "execution_count": 35,
     "metadata": {},
     "output_type": "execute_result"
    }
   ],
   "source": [
    "libor = pd.read_csv('libor.csv') #where to find??\n",
    "libor.head()"
   ]
  },
  {
   "cell_type": "code",
   "execution_count": 36,
   "metadata": {},
   "outputs": [
    {
     "data": {
      "text/html": [
       "<div>\n",
       "<style scoped>\n",
       "    .dataframe tbody tr th:only-of-type {\n",
       "        vertical-align: middle;\n",
       "    }\n",
       "\n",
       "    .dataframe tbody tr th {\n",
       "        vertical-align: top;\n",
       "    }\n",
       "\n",
       "    .dataframe thead th {\n",
       "        text-align: right;\n",
       "    }\n",
       "</style>\n",
       "<table border=\"1\" class=\"dataframe\">\n",
       "  <thead>\n",
       "    <tr style=\"text-align: right;\">\n",
       "      <th></th>\n",
       "      <th>mths_since_recent_inq</th>\n",
       "      <th>emp_length</th>\n",
       "      <th>num_tl_120dpd_2m</th>\n",
       "      <th>mo_sin_old_il_acct</th>\n",
       "      <th>percent_bc_gt_75</th>\n",
       "      <th>mths_since_recent_bc</th>\n",
       "      <th>revol_util</th>\n",
       "      <th>dti</th>\n",
       "      <th>policy_code</th>\n",
       "      <th>pub_rec</th>\n",
       "      <th>...</th>\n",
       "      <th>acc_open_past_24mths</th>\n",
       "      <th>num_accts_ever_120_pd</th>\n",
       "      <th>mort_acc</th>\n",
       "      <th>mo_sin_rcnt_tl</th>\n",
       "      <th>mo_sin_rcnt_rev_tl_op</th>\n",
       "      <th>mo_sin_old_rev_tl_op</th>\n",
       "      <th>loan_status</th>\n",
       "      <th>loan_amnt</th>\n",
       "      <th>month</th>\n",
       "      <th>libor</th>\n",
       "    </tr>\n",
       "  </thead>\n",
       "  <tbody>\n",
       "    <tr>\n",
       "      <td>0</td>\n",
       "      <td>4.0</td>\n",
       "      <td>10+ years</td>\n",
       "      <td>0.0</td>\n",
       "      <td>148.0</td>\n",
       "      <td>0.0</td>\n",
       "      <td>4.0</td>\n",
       "      <td>29.7</td>\n",
       "      <td>5.91</td>\n",
       "      <td>1.0</td>\n",
       "      <td>0.0</td>\n",
       "      <td>...</td>\n",
       "      <td>4.0</td>\n",
       "      <td>2.0</td>\n",
       "      <td>1.0</td>\n",
       "      <td>3.0</td>\n",
       "      <td>3.0</td>\n",
       "      <td>128.0</td>\n",
       "      <td>Fully Paid</td>\n",
       "      <td>3600.0</td>\n",
       "      <td>Dec-2015</td>\n",
       "      <td>0.42</td>\n",
       "    </tr>\n",
       "    <tr>\n",
       "      <td>1</td>\n",
       "      <td>0.0</td>\n",
       "      <td>10+ years</td>\n",
       "      <td>0.0</td>\n",
       "      <td>113.0</td>\n",
       "      <td>7.7</td>\n",
       "      <td>2.0</td>\n",
       "      <td>19.2</td>\n",
       "      <td>16.06</td>\n",
       "      <td>1.0</td>\n",
       "      <td>0.0</td>\n",
       "      <td>...</td>\n",
       "      <td>4.0</td>\n",
       "      <td>0.0</td>\n",
       "      <td>4.0</td>\n",
       "      <td>2.0</td>\n",
       "      <td>2.0</td>\n",
       "      <td>192.0</td>\n",
       "      <td>Fully Paid</td>\n",
       "      <td>24700.0</td>\n",
       "      <td>Dec-2015</td>\n",
       "      <td>0.42</td>\n",
       "    </tr>\n",
       "    <tr>\n",
       "      <td>2</td>\n",
       "      <td>10.0</td>\n",
       "      <td>10+ years</td>\n",
       "      <td>0.0</td>\n",
       "      <td>125.0</td>\n",
       "      <td>50.0</td>\n",
       "      <td>101.0</td>\n",
       "      <td>56.2</td>\n",
       "      <td>10.78</td>\n",
       "      <td>1.0</td>\n",
       "      <td>0.0</td>\n",
       "      <td>...</td>\n",
       "      <td>6.0</td>\n",
       "      <td>0.0</td>\n",
       "      <td>5.0</td>\n",
       "      <td>14.0</td>\n",
       "      <td>14.0</td>\n",
       "      <td>184.0</td>\n",
       "      <td>Fully Paid</td>\n",
       "      <td>20000.0</td>\n",
       "      <td>Dec-2015</td>\n",
       "      <td>0.42</td>\n",
       "    </tr>\n",
       "    <tr>\n",
       "      <td>3</td>\n",
       "      <td>1.0</td>\n",
       "      <td>3 years</td>\n",
       "      <td>0.0</td>\n",
       "      <td>128.0</td>\n",
       "      <td>60.0</td>\n",
       "      <td>4.0</td>\n",
       "      <td>64.5</td>\n",
       "      <td>25.37</td>\n",
       "      <td>1.0</td>\n",
       "      <td>0.0</td>\n",
       "      <td>...</td>\n",
       "      <td>10.0</td>\n",
       "      <td>0.0</td>\n",
       "      <td>6.0</td>\n",
       "      <td>4.0</td>\n",
       "      <td>4.0</td>\n",
       "      <td>210.0</td>\n",
       "      <td>Fully Paid</td>\n",
       "      <td>10400.0</td>\n",
       "      <td>Dec-2015</td>\n",
       "      <td>0.42</td>\n",
       "    </tr>\n",
       "    <tr>\n",
       "      <td>4</td>\n",
       "      <td>NaN</td>\n",
       "      <td>4 years</td>\n",
       "      <td>0.0</td>\n",
       "      <td>338.0</td>\n",
       "      <td>100.0</td>\n",
       "      <td>36.0</td>\n",
       "      <td>68.4</td>\n",
       "      <td>10.20</td>\n",
       "      <td>1.0</td>\n",
       "      <td>0.0</td>\n",
       "      <td>...</td>\n",
       "      <td>0.0</td>\n",
       "      <td>0.0</td>\n",
       "      <td>0.0</td>\n",
       "      <td>32.0</td>\n",
       "      <td>32.0</td>\n",
       "      <td>54.0</td>\n",
       "      <td>Fully Paid</td>\n",
       "      <td>11950.0</td>\n",
       "      <td>Dec-2015</td>\n",
       "      <td>0.42</td>\n",
       "    </tr>\n",
       "  </tbody>\n",
       "</table>\n",
       "<p>5 rows × 61 columns</p>\n",
       "</div>"
      ],
      "text/plain": [
       "   mths_since_recent_inq emp_length  num_tl_120dpd_2m  mo_sin_old_il_acct  \\\n",
       "0                    4.0  10+ years               0.0               148.0   \n",
       "1                    0.0  10+ years               0.0               113.0   \n",
       "2                   10.0  10+ years               0.0               125.0   \n",
       "3                    1.0    3 years               0.0               128.0   \n",
       "4                    NaN    4 years               0.0               338.0   \n",
       "\n",
       "   percent_bc_gt_75  mths_since_recent_bc  revol_util    dti policy_code  \\\n",
       "0               0.0                   4.0        29.7   5.91         1.0   \n",
       "1               7.7                   2.0        19.2  16.06         1.0   \n",
       "2              50.0                 101.0        56.2  10.78         1.0   \n",
       "3              60.0                   4.0        64.5  25.37         1.0   \n",
       "4             100.0                  36.0        68.4  10.20         1.0   \n",
       "\n",
       "   pub_rec  ...  acc_open_past_24mths num_accts_ever_120_pd  mort_acc  \\\n",
       "0      0.0  ...                   4.0                   2.0       1.0   \n",
       "1      0.0  ...                   4.0                   0.0       4.0   \n",
       "2      0.0  ...                   6.0                   0.0       5.0   \n",
       "3      0.0  ...                  10.0                   0.0       6.0   \n",
       "4      0.0  ...                   0.0                   0.0       0.0   \n",
       "\n",
       "  mo_sin_rcnt_tl  mo_sin_rcnt_rev_tl_op mo_sin_old_rev_tl_op  loan_status  \\\n",
       "0            3.0                    3.0                128.0   Fully Paid   \n",
       "1            2.0                    2.0                192.0   Fully Paid   \n",
       "2           14.0                   14.0                184.0   Fully Paid   \n",
       "3            4.0                    4.0                210.0   Fully Paid   \n",
       "4           32.0                   32.0                 54.0   Fully Paid   \n",
       "\n",
       "   loan_amnt     month libor  \n",
       "0     3600.0  Dec-2015  0.42  \n",
       "1    24700.0  Dec-2015  0.42  \n",
       "2    20000.0  Dec-2015  0.42  \n",
       "3    10400.0  Dec-2015  0.42  \n",
       "4    11950.0  Dec-2015  0.42  \n",
       "\n",
       "[5 rows x 61 columns]"
      ]
     },
     "execution_count": 36,
     "metadata": {},
     "output_type": "execute_result"
    }
   ],
   "source": [
    "df3['issue_d'] = df3['issue_d'].astype('object')\n",
    "df123 = pd.merge(df3, libor, left_on='issue_d', right_on='month')\n",
    "df123.head()"
   ]
  },
  {
   "cell_type": "code",
   "execution_count": 37,
   "metadata": {},
   "outputs": [
    {
     "data": {
      "text/plain": [
       "(1117393, 60)"
      ]
     },
     "execution_count": 37,
     "metadata": {},
     "output_type": "execute_result"
    }
   ],
   "source": [
    "df123 = df123.drop('month', axis=1)\n",
    "df123.shape"
   ]
  },
  {
   "cell_type": "markdown",
   "metadata": {},
   "source": [
    "After including libor into the model, it is time to begin testing. For this model, we are utilizing the Pipeline method. First, we separate the features into numeric and categorical to develop the two pipelines with the imputing method for each type of variable. There two pipelines create the preprocessor (Main Pipeline). "
   ]
  },
  {
   "cell_type": "code",
   "execution_count": 38,
   "metadata": {},
   "outputs": [],
   "source": [
    "numeric_features = df123.select_dtypes(include=['int64', 'float64']).columns\n",
    "categorical_features = df123.select_dtypes(include=['object', 'category']).columns\n",
    "categorical_features=categorical_features.drop(['loan_status'])"
   ]
  },
  {
   "cell_type": "code",
   "execution_count": 39,
   "metadata": {},
   "outputs": [],
   "source": [
    "df123['loan_status']=np.where(df123.loan_status=='Default','Charged Off',df123.loan_status)"
   ]
  },
  {
   "cell_type": "code",
   "execution_count": 40,
   "metadata": {},
   "outputs": [],
   "source": [
    "df123 = df123.drop(['issue_d','addr_state'], axis=1)\n",
    "data=df123.copy().sample(n=50000, random_state=1)\n",
    "numeric_features = data.select_dtypes(include=['int64', 'float64']).columns\n",
    "categorical_features = data.select_dtypes(include=['object', 'category']).columns\n",
    "categorical_features=categorical_features.drop(['loan_status'])\n",
    "X = data.loc[:, data.columns != 'loan_status']\n",
    "# Create a new dataframe y that includes only our \n",
    "y = data.loan_status"
   ]
  },
  {
   "cell_type": "code",
   "execution_count": 41,
   "metadata": {},
   "outputs": [],
   "source": [
    "from sklearn.pipeline import Pipeline\n",
    "from sklearn.impute import SimpleImputer\n",
    "from sklearn.preprocessing import OneHotEncoder\n",
    "from sklearn.compose import ColumnTransformer\n",
    "\n",
    "#1 Inner Pipeline1: Create a numeric transformer with 2 steps\n",
    "numeric_transformer = Pipeline(steps=[('imputer', SimpleImputer(strategy = 'median'))])\n",
    "\n",
    "#2 Inner Pipeline2: Create a categorical transformer with 2 steps\n",
    "categorical_transformer = Pipeline(steps=[('imputer', SimpleImputer(strategy='most_frequent')), ('onehot', OneHotEncoder(drop='first'))])\n",
    "\n",
    "#3 Create preprocessor\n",
    "preprocessor = ColumnTransformer(\n",
    "    transformers = [\n",
    "        ('num', numeric_transformer, numeric_features),\n",
    "        ('cat', categorical_transformer, categorical_features)])"
   ]
  },
  {
   "cell_type": "markdown",
   "metadata": {},
   "source": [
    "With our Pipeline, our team decided to feed in the **Random Forest Classifier** for classification of the loan_status response variable as fully paid or defaulted. "
   ]
  },
  {
   "cell_type": "code",
   "execution_count": 42,
   "metadata": {},
   "outputs": [
    {
     "name": "stdout",
     "output_type": "stream",
     "text": [
      "0.9284\n",
      "              precision    recall  f1-score   support\n",
      "\n",
      " Charged Off       1.00      0.66      0.79      3104\n",
      "  Fully Paid       0.92      1.00      0.96     11896\n",
      "\n",
      "    accuracy                           0.93     15000\n",
      "   macro avg       0.96      0.83      0.87     15000\n",
      "weighted avg       0.93      0.93      0.92     15000\n",
      "\n"
     ]
    },
    {
     "data": {
      "image/png": "[encoded data removed]",
      "text/plain": [
       "<Figure size 432x288 with 2 Axes>"
      ]
     },
     "metadata": {
      "needs_background": "light"
     },
     "output_type": "display_data"
    }
   ],
   "source": [
    "from sklearn.ensemble import RandomForestClassifier, ExtraTreesClassifier\n",
    "from sklearn.linear_model import SGDClassifier\n",
    "from sklearn.neural_network import MLPClassifier\n",
    "from sklearn.gaussian_process import GaussianProcessClassifier\n",
    "from sklearn.feature_selection import SelectFromModel, SelectKBest\n",
    "from matplotlib import pyplot as plt\n",
    "MainPipe = Pipeline(steps=[('preprocessor', preprocessor),\n",
    "                      ('classifier', RandomForestClassifier(n_estimators=90) )])\n",
    "#('fs',SelectFromModel(ExtraTreesClassifier())),\n",
    "# split sample into train and test\n",
    "from sklearn.model_selection import train_test_split\n",
    "X_train, X_test, y_train, y_test = train_test_split(X,y, test_size=0.3, stratify=y,random_state=42)  # random_state=21 # stratify=y\n",
    "\n",
    "\n",
    "# Fit Model\n",
    "MainPipe.fit(X_train,y_train)\n",
    "\n",
    "# Predict model\n",
    "y_pred = MainPipe.predict(X_test)\n",
    "\n",
    "# Output the accuracy of our prediction\n",
    "from sklearn.metrics import accuracy_score\n",
    "print(accuracy_score(y_test, y_pred))\n",
    "\n",
    "# Visualize the confusion matrix to make it easier to read\n",
    "from sklearn.metrics import confusion_matrix\n",
    "con_matrix = confusion_matrix(y_test, y_pred)\n",
    "confusion_matrix_df = pd.DataFrame(con_matrix, ('0', '1'), ('0', '1'))\n",
    "heatmap = sns.heatmap(confusion_matrix_df, annot=True, annot_kws={\"size\": 20}, fmt=\"d\", cmap=\"Blues\")\n",
    "heatmap.yaxis.set_ticklabels(heatmap.yaxis.get_ticklabels(), rotation=0, ha='right', fontsize = 14)\n",
    "heatmap.xaxis.set_ticklabels(heatmap.xaxis.get_ticklabels(), rotation=45, ha='right', fontsize = 14)\n",
    "plt.ylabel('Actual', fontsize = 14)\n",
    "plt.xlabel('Predicted', fontsize = 14)\n",
    "\n",
    "# Print the classification report\n",
    "from sklearn.metrics import classification_report\n",
    "print(classification_report(y_test, y_pred))"
   ]
  },
  {
   "cell_type": "markdown",
   "metadata": {},
   "source": [
    "After this first run through, our f1 score for accuracy is 0.92, which is an incredible score. However, upon scanning the varaibles in the feature importance output below, our team noticed that many of the variables would not actually be information available to the investor at the time of investing. With that being said, we decided to remove the variables that would not be available at the time of investing, even though this will bring down the accuracy of our prediction model. "
   ]
  },
  {
   "cell_type": "code",
   "execution_count": 43,
   "metadata": {},
   "outputs": [],
   "source": [
    "mult_value=[]\n",
    "for col in pd.get_dummies(X_train, drop_first=True):\n",
    "    mult_value.append(len(pd.get_dummies(X_train, drop_first=True)[col].unique())!=1)"
   ]
  },
  {
   "cell_type": "code",
   "execution_count": 44,
   "metadata": {},
   "outputs": [
    {
     "data": {
      "image/png": "[encoded data removed]",
      "text/plain": [
       "<Figure size 1080x720 with 1 Axes>"
      ]
     },
     "metadata": {
      "needs_background": "light"
     },
     "output_type": "display_data"
    }
   ],
   "source": [
    "importances_rf = pd.Series(MainPipe.named_steps['classifier'].feature_importances_,\n",
    "                          index = pd.get_dummies(X,drop_first=True).drop(['home_ownership_NONE','purpose_educational'],axis=1).columns)\n",
    "\n",
    "#Sort importances_rf\n",
    "sorted_importances_rf = importances_rf.sort_values()\n",
    "\n",
    "#Make a horizontal bar plot\n",
    "plt.figure(figsize=(15,10))\n",
    "sorted_importances_rf.plot(kind='barh', color='skyblue');\n",
    "plt.show()"
   ]
  },
  {
   "cell_type": "code",
   "execution_count": 45,
   "metadata": {},
   "outputs": [
    {
     "data": {
      "text/plain": [
       "['pct_tl_nvr_dlq',\n",
       " 'percent_bc_gt_75',\n",
       " 'num_bc_tl',\n",
       " 'num_actv_rev_tl',\n",
       " 'verification_status_Verified',\n",
       " 'acc_open_past_24mths',\n",
       " 'num_op_rev_tl',\n",
       " 'mo_sin_rcnt_tl',\n",
       " 'mths_since_recent_inq',\n",
       " 'mo_sin_rcnt_rev_tl_op',\n",
       " 'num_il_tl',\n",
       " 'libor',\n",
       " 'total_acc',\n",
       " 'mths_since_recent_bc',\n",
       " 'fico_range_high',\n",
       " 'loan_amnt',\n",
       " 'total_bal_ex_mort',\n",
       " 'total_rev_hi_lim',\n",
       " 'revol_util',\n",
       " 'mo_sin_old_il_acct',\n",
       " 'total_bc_limit',\n",
       " 'annual_inc',\n",
       " 'mo_sin_old_rev_tl_op',\n",
       " 'avg_cur_bal',\n",
       " 'dti',\n",
       " 'total_rec_int',\n",
       " 'total_rec_late_fee',\n",
       " 'int_rate',\n",
       " 'debt_settlement_flag_Y',\n",
       " 'collection_recovery_fee']"
      ]
     },
     "execution_count": 45,
     "metadata": {},
     "output_type": "execute_result"
    }
   ],
   "source": [
    "sorted_importances_rf[-30:].index.tolist()"
   ]
  },
  {
   "cell_type": "code",
   "execution_count": 46,
   "metadata": {},
   "outputs": [],
   "source": [
    "drop_vars = [\n",
    " 'num_op_rev_tl',\n",
    " 'acc_open_past_24mths',\n",
    " 'mo_sin_rcnt_tl',\n",
    " 'mths_since_recent_inq',    \n",
    " 'num_il_tl',        \n",
    " 'mths_since_recent_bc',\n",
    " 'total_rev_hi_lim', \n",
    " 'total_bc_limit', \n",
    " 'total_bal_ex_mort',\n",
    " 'mo_sin_old_il_acct',\n",
    " 'mo_sin_old_rev_tl_op',\n",
    " 'avg_cur_bal',\n",
    " 'total_rec_int',\n",
    " 'total_rec_late_fee',\n",
    " 'debt_settlement_flag',\n",
    " 'collection_recovery_fee'\n",
    "]"
   ]
  },
  {
   "cell_type": "code",
   "execution_count": 47,
   "metadata": {},
   "outputs": [],
   "source": [
    "df123 = df123.drop(drop_vars, axis=1)\n",
    "data=df123.copy().sample(n=50000, random_state=1)\n",
    "numeric_features = data.select_dtypes(include=['int64', 'float64']).columns\n",
    "categorical_features = data.select_dtypes(include=['object', 'category']).columns\n",
    "categorical_featuers=categorical_features.drop(['loan_status'])\n",
    "X = data.loc[:, data.columns != 'loan_status']\n",
    "\n",
    "y = data.loan_status"
   ]
  },
  {
   "cell_type": "code",
   "execution_count": 48,
   "metadata": {},
   "outputs": [
    {
     "data": {
      "text/plain": [
       "(1117393, 42)"
      ]
     },
     "execution_count": 48,
     "metadata": {},
     "output_type": "execute_result"
    }
   ],
   "source": [
    "df123.shape"
   ]
  },
  {
   "cell_type": "markdown",
   "metadata": {},
   "source": [
    "Although we do not explicitly show these steps, our teams runs the model one more time to find a final list of variables to drop, many of which are also not available during the time of investing.\n",
    "\n",
    "As an aside, we determined the variables that were not available at the time of investing by researching into the LendingClub.com platform to analyze which variables are available. "
   ]
  },
  {
   "cell_type": "code",
   "execution_count": 49,
   "metadata": {},
   "outputs": [],
   "source": [
    "\n",
    "final_drop_vars = [\n",
    " 'out_prncp', #dropping because 0 feature importance\n",
    " 'num_tl_120dpd_2m',\n",
    " 'num_tl_30dpd',\n",
    " 'chargeoff_within_12_mths',         #dont think we have this but double check\n",
    " 'tax_liens',                 #don think we have this, but check\n",
    " 'num_accts_ever_120_pd',\n",
    " 'tot_coll_amt',               #we only have \"total collections excluding medical\" (listed above)\n",
    " 'num_tl_op_past_12m',\n",
    " 'num_bc_sats',             \n",
    " 'num_actv_rev_tl',\n",
    " 'num_bc_tl',\n",
    "]"
   ]
  },
  {
   "cell_type": "code",
   "execution_count": 50,
   "metadata": {},
   "outputs": [],
   "source": [
    "#final removal\n",
    "\n",
    "df123 = df123.drop(final_drop_vars, axis=1)\n",
    "data=df123.copy().sample(n=50000, random_state=1)\n",
    "numeric_features = data.select_dtypes(include=['int64', 'float64']).columns\n",
    "categorical_features = data.select_dtypes(include=['object', 'category']).columns\n",
    "categorical_features=categorical_features.drop(['loan_status'])\n",
    "X = data.loc[:, data.columns != 'loan_status']\n",
    "# Create a new dataframe y that includes only our \n",
    "y = data.loan_status"
   ]
  },
  {
   "cell_type": "markdown",
   "metadata": {},
   "source": [
    "# Sub Grade Chart"
   ]
  },
  {
   "cell_type": "markdown",
   "metadata": {},
   "source": [
    "As we have finetuned the variables to be included in the model, our team turned toward the **sub grade** variable to determine its importance in the model. For context, each loan has a grade (A, B, C, etc.) and each grade has sub grades that give an ordering of loans within each grade (A1, A2, B1, etc.). \n",
    "\n",
    "First we created a subset dataframe only containing *loan_status* as the response variable and *sub_grade* as the dependent variable. "
   ]
  },
  {
   "cell_type": "code",
   "execution_count": 51,
   "metadata": {},
   "outputs": [],
   "source": [
    "df_sub_grade = df123[['sub_grade', 'loan_status']]\n",
    "data=df_sub_grade.copy().sample(n=50000, random_state=1)\n",
    "numeric_features = data.select_dtypes(include=['int64', 'float64']).columns\n",
    "categorical_features = data.select_dtypes(include=['object', 'category']).columns\n",
    "categorical_features=categorical_features.drop(['loan_status'])\n",
    "X = data.loc[:, data.columns != 'loan_status']\n",
    "# Create a new dataframe y that includes only our \n",
    "y = data.loan_status"
   ]
  },
  {
   "cell_type": "code",
   "execution_count": 52,
   "metadata": {},
   "outputs": [],
   "source": [
    "from sklearn.pipeline import Pipeline\n",
    "from sklearn.impute import SimpleImputer\n",
    "#from sklearn.impute import Imputer\n",
    "from sklearn.compose import ColumnTransformer\n",
    "\n",
    "\n",
    "#1 Inner Pipeline1: Create a numeric transformer with 2 steps\n",
    "numeric_transformer = Pipeline(steps=[\n",
    "    ('imputer', SimpleImputer(strategy = 'median'))])\n",
    "\n",
    "#2 Inner Pipeline2: Create a categorical transformer with 2 steps\n",
    "categorical_transformer = Pipeline(steps=[\n",
    "    ('imputer', SimpleImputer(strategy='most_frequent')),\n",
    "    ('onehot', OneHotEncoder(drop='first'))])\n",
    "\n",
    "#3 Create Preprocessor\n",
    "preprocessor = ColumnTransformer(\n",
    "    transformers=[\n",
    "        ('num', numeric_transformer, numeric_features),\n",
    "        ('cat', categorical_transformer, categorical_features)])"
   ]
  },
  {
   "cell_type": "code",
   "execution_count": 53,
   "metadata": {},
   "outputs": [
    {
     "name": "stdout",
     "output_type": "stream",
     "text": [
      "0.7918\n",
      "              precision    recall  f1-score   support\n",
      "\n",
      " Charged Off       0.45      0.03      0.05      3104\n",
      "  Fully Paid       0.80      0.99      0.88     11896\n",
      "\n",
      "    accuracy                           0.79     15000\n",
      "   macro avg       0.62      0.51      0.47     15000\n",
      "weighted avg       0.72      0.79      0.71     15000\n",
      "\n"
     ]
    },
    {
     "data": {
      "image/png": "[encoded data removed]",
      "text/plain": [
       "<Figure size 432x288 with 2 Axes>"
      ]
     },
     "metadata": {
      "needs_background": "light"
     },
     "output_type": "display_data"
    }
   ],
   "source": [
    "from sklearn.ensemble import RandomForestClassifier, ExtraTreesClassifier\n",
    "from sklearn.linear_model import SGDClassifier\n",
    "from sklearn.neural_network import MLPClassifier\n",
    "from sklearn.gaussian_process import GaussianProcessClassifier\n",
    "from sklearn.feature_selection import SelectFromModel, SelectKBest\n",
    "from matplotlib import pyplot as plt\n",
    "MainPipe = Pipeline(steps=[('preprocessor', preprocessor),\n",
    "                      ('classifier', RandomForestClassifier(n_estimators=90) )])\n",
    "#('fs',SelectFromModel(ExtraTreesClassifier())),\n",
    "# split sample into train and test\n",
    "from sklearn.model_selection import train_test_split\n",
    "X_train, X_test, y_train, y_test = train_test_split(X,y, test_size=0.3, stratify=y,random_state=42)  # random_state=21 # stratify=y\n",
    "\n",
    "\n",
    "# Fit Model\n",
    "MainPipe.fit(X_train,y_train)\n",
    "\n",
    "# Predict model\n",
    "y_pred = MainPipe.predict(X_test)\n",
    "\n",
    "# Output the accuracy of our prediction\n",
    "from sklearn.metrics import accuracy_score\n",
    "print(accuracy_score(y_test, y_pred))\n",
    "\n",
    "# Visualize the confusion matrix to make it easier to read\n",
    "from sklearn.metrics import confusion_matrix\n",
    "con_matrix = confusion_matrix(y_test, y_pred)\n",
    "confusion_matrix_df = pd.DataFrame(con_matrix, ('0', '1'), ('0', '1'))\n",
    "heatmap = sns.heatmap(confusion_matrix_df, annot=True, annot_kws={\"size\": 20}, fmt=\"d\", cmap=\"Blues\")\n",
    "heatmap.yaxis.set_ticklabels(heatmap.yaxis.get_ticklabels(), rotation=0, ha='right', fontsize = 14)\n",
    "heatmap.xaxis.set_ticklabels(heatmap.xaxis.get_ticklabels(), rotation=45, ha='right', fontsize = 14)\n",
    "plt.ylabel('Actual', fontsize = 14)\n",
    "plt.xlabel('Predicted', fontsize = 14)\n",
    "\n",
    "# Print the classification report\n",
    "from sklearn.metrics import classification_report\n",
    "print(classification_report(y_test, y_pred))"
   ]
  },
  {
   "cell_type": "code",
   "execution_count": 54,
   "metadata": {},
   "outputs": [
    {
     "data": {
      "image/png": "[encoded data removed]",
      "text/plain": [
       "<Figure size 1080x720 with 1 Axes>"
      ]
     },
     "metadata": {
      "needs_background": "light"
     },
     "output_type": "display_data"
    }
   ],
   "source": [
    "import pandas as pd\n",
    "import matplotlib.pyplot as plt\n",
    "\n",
    "# Create a pd.Series of features importances\n",
    "importances_rf = pd.Series(MainPipe.named_steps['classifier'].feature_importances_, index = pd.get_dummies(X,drop_first=True).columns)\n",
    "\n",
    "# Sort importances_rf\n",
    "sorted_importances_rf = importances_rf.sort_values()\n",
    "\n",
    "# Make a horizontal bar plot\n",
    "plt.figure(figsize=(15,10))\n",
    "sorted_importances_rf.plot(kind='barh', color='skyblue'); \n",
    "plt.show()"
   ]
  },
  {
   "cell_type": "markdown",
   "metadata": {},
   "source": [
    "After running the model, we find an accuracy score of 0.792 in prediction however, the feature importance for these variables is very small, so we found this variable unnecessary. "
   ]
  },
  {
   "cell_type": "markdown",
   "metadata": {},
   "source": [
    "# Other Features"
   ]
  },
  {
   "cell_type": "markdown",
   "metadata": {},
   "source": [
    "Now, our team will run the model without the *sub_grade* variable. "
   ]
  },
  {
   "cell_type": "code",
   "execution_count": 55,
   "metadata": {},
   "outputs": [],
   "source": [
    "df_other_features = df123.drop(['sub_grade'], axis=1)\n",
    "data=df_other_features.copy().sample(n=50000, random_state=1)\n",
    "\n",
    "numeric_features = data.select_dtypes(include=['int64', 'float64']).columns\n",
    "categorical_features = data.select_dtypes(include=['object', 'category']).columns\n",
    "categorical_features=categorical_features.drop(['loan_status'])\n",
    "X = data.loc[:, data.columns != 'loan_status']\n",
    "# Create a new dataframe y that includes only our \n",
    "y = data.loan_status"
   ]
  },
  {
   "cell_type": "code",
   "execution_count": 56,
   "metadata": {},
   "outputs": [],
   "source": [
    "#1 Inner Pipeline1: Create a numeric transformer with 2 steps\n",
    "numeric_transformer = Pipeline(steps=[\n",
    "    ('imputer', SimpleImputer(strategy = 'median'))])\n",
    "\n",
    "#2 Inner Pipeline2: Create a categorical transformer with 2 steps\n",
    "categorical_transformer = Pipeline(steps=[\n",
    "    ('imputer', SimpleImputer(strategy='most_frequent')),\n",
    "    ('onehot', OneHotEncoder(drop='first'))])\n",
    "\n",
    "#3 Create Preprocessor\n",
    "preprocessor = ColumnTransformer(\n",
    "    transformers=[\n",
    "        ('num', numeric_transformer, numeric_features),\n",
    "        ('cat', categorical_transformer, categorical_features)])"
   ]
  },
  {
   "cell_type": "code",
   "execution_count": 57,
   "metadata": {},
   "outputs": [
    {
     "name": "stdout",
     "output_type": "stream",
     "text": [
      "0.7964666666666667\n",
      "              precision    recall  f1-score   support\n",
      "\n",
      " Charged Off       0.56      0.08      0.14      3104\n",
      "  Fully Paid       0.80      0.98      0.88     11896\n",
      "\n",
      "    accuracy                           0.80     15000\n",
      "   macro avg       0.68      0.53      0.51     15000\n",
      "weighted avg       0.75      0.80      0.73     15000\n",
      "\n"
     ]
    },
    {
     "data": {
      "image/png": "[encoded data removed]",
      "text/plain": [
       "<Figure size 432x288 with 2 Axes>"
      ]
     },
     "metadata": {
      "needs_background": "light"
     },
     "output_type": "display_data"
    }
   ],
   "source": [
    "MainPipe = Pipeline(steps=[('preprocessor', preprocessor),\n",
    "                      ('classifier', RandomForestClassifier(n_estimators=90) )])\n",
    "# split sample into train and test\n",
    "\n",
    "X_train, X_test, y_train, y_test = train_test_split(X,y, test_size=0.3, stratify=y,random_state=42)  # random_state=21 # stratify=y\n",
    "\n",
    "# Fit Model\n",
    "MainPipe.fit(X_train,y_train)\n",
    "\n",
    "# Predict model\n",
    "y_pred = MainPipe.predict(X_test)\n",
    "\n",
    "#Output accuracy of our prediction\n",
    "print(accuracy_score(y_test, y_pred))\n",
    "\n",
    "# Visualize the confusion matrix to make it easier to read\n",
    "con_matrix = confusion_matrix(y_test, y_pred)\n",
    "confusion_matrix_df = pd.DataFrame(con_matrix, ('0', '1'), ('0', '1'))\n",
    "heatmap = sns.heatmap(confusion_matrix_df, annot=True, annot_kws={\"size\": 20}, fmt=\"d\", cmap=\"Blues\")\n",
    "heatmap.yaxis.set_ticklabels(heatmap.yaxis.get_ticklabels(), rotation=0, ha='right', fontsize = 14)\n",
    "heatmap.xaxis.set_ticklabels(heatmap.xaxis.get_ticklabels(), rotation=45, ha='right', fontsize = 14)\n",
    "plt.ylabel('Actual', fontsize = 14)\n",
    "plt.xlabel('Predicted', fontsize = 14)\n",
    "\n",
    "# Print the classification report\n",
    "print(classification_report(y_test, y_pred))"
   ]
  },
  {
   "cell_type": "code",
   "execution_count": 58,
   "metadata": {},
   "outputs": [
    {
     "data": {
      "image/png": "[encoded data removed]",
      "text/plain": [
       "<Figure size 1080x720 with 1 Axes>"
      ]
     },
     "metadata": {
      "needs_background": "light"
     },
     "output_type": "display_data"
    }
   ],
   "source": [
    "# Create a pd.Series of features importances\n",
    "importances_rf = pd.Series(MainPipe.named_steps['classifier'].feature_importances_, index = pd.get_dummies(X,drop_first=True).drop(['home_ownership_NONE','purpose_educational'],axis=1).columns)\n",
    "\n",
    "# Sort importances_rf\n",
    "sorted_importances_rf = importances_rf.sort_values()\n",
    "\n",
    "# Make a horizontal bar plot\n",
    "plt.figure(figsize=(15,10))\n",
    "sorted_importances_rf.plot(kind='barh', color='skyblue'); \n",
    "plt.show()"
   ]
  },
  {
   "cell_type": "markdown",
   "metadata": {},
   "source": [
    "Still, by the looks of our feature importance graph, there are many variables that have little importance to our model. Therefore, our team made the decision to drop any varibles that have a feature importance less than 0.01."
   ]
  },
  {
   "cell_type": "code",
   "execution_count": 59,
   "metadata": {},
   "outputs": [
    {
     "data": {
      "text/plain": [
       "['verification_status_Source Verified',\n",
       " 'purpose_debt_consolidation',\n",
       " 'purpose_wedding',\n",
       " 'emp_length_10+ years',\n",
       " 'term_ 60 months',\n",
       " 'pub_rec',\n",
       " 'delinq_2yrs',\n",
       " 'verification_status_Verified',\n",
       " 'inq_last_6mths',\n",
       " 'mort_acc',\n",
       " 'percent_bc_gt_75',\n",
       " 'pct_tl_nvr_dlq',\n",
       " 'fico_range_high',\n",
       " 'libor',\n",
       " 'mo_sin_rcnt_rev_tl_op',\n",
       " 'total_acc',\n",
       " 'loan_amnt',\n",
       " 'annual_inc',\n",
       " 'revol_util',\n",
       " 'dti',\n",
       " 'int_rate']"
      ]
     },
     "execution_count": 59,
     "metadata": {},
     "output_type": "execute_result"
    }
   ],
   "source": [
    "drop = sorted_importances_rf[sorted_importances_rf > 0.01]\n",
    "drop = drop.index.tolist()\n",
    "drop"
   ]
  },
  {
   "cell_type": "markdown",
   "metadata": {},
   "source": [
    "The below output gives our final list of variables for the model that we believe impact the final status of a loan, whether it will be fully paid or defaulted. "
   ]
  },
  {
   "cell_type": "code",
   "execution_count": 60,
   "metadata": {},
   "outputs": [],
   "source": [
    "final_vars = ['loan_status',\n",
    "             \n",
    "              # x vars\n",
    "             'term',\n",
    "             'emp_length',\n",
    "             'pub_rec',\n",
    "             'delinq_2yrs',\n",
    "             'inq_last_6mths',\n",
    "             'verification_status',\n",
    "             'mort_acc',\n",
    "             'percent_bc_gt_75',\n",
    "             'pct_tl_nvr_dlq',\n",
    "             'fico_range_high',\n",
    "             'libor',\n",
    "             'mo_sin_rcnt_rev_tl_op',\n",
    "             'total_acc',\n",
    "             'loan_amnt',\n",
    "             'annual_inc',\n",
    "             'revol_util',\n",
    "             'dti',\n",
    "             'int_rate',\n",
    "             'sub_grade']"
   ]
  },
  {
   "cell_type": "code",
   "execution_count": 61,
   "metadata": {},
   "outputs": [
    {
     "name": "stdout",
     "output_type": "stream",
     "text": [
      "<class 'pandas.core.frame.DataFrame'>\n",
      "Int64Index: 1117393 entries, 0 to 1117392\n",
      "Data columns (total 31 columns):\n",
      "emp_length                    1047842 non-null category\n",
      "percent_bc_gt_75              1104650 non-null float64\n",
      "revol_util                    1116711 non-null float64\n",
      "dti                           1117019 non-null float64\n",
      "policy_code                   1117393 non-null category\n",
      "pub_rec                       1117393 non-null float64\n",
      "pub_rec_bankruptcies          1117393 non-null float64\n",
      "purpose                       1117393 non-null category\n",
      "acc_now_delinq                1117393 non-null float64\n",
      "sub_grade                     1117393 non-null category\n",
      "verification_status           1117393 non-null category\n",
      "term                          1117393 non-null category\n",
      "total_acc                     1117393 non-null float64\n",
      "pct_tl_nvr_dlq                1117392 non-null float64\n",
      "inq_last_6mths                1117392 non-null float64\n",
      "initial_list_status           1117393 non-null category\n",
      "home_ownership                1117393 non-null category\n",
      "fico_range_high               1117393 non-null float64\n",
      "disbursement_method           1117393 non-null category\n",
      "delinq_amnt                   1117393 non-null float64\n",
      "delinq_2yrs                   1117393 non-null float64\n",
      "collections_12_mths_ex_med    1117393 non-null float64\n",
      "application_type              1117393 non-null category\n",
      "annual_inc                    1117393 non-null float64\n",
      "int_rate                      1117393 non-null float64\n",
      "num_tl_90g_dpd_24m            1117393 non-null float64\n",
      "mort_acc                      1117393 non-null float64\n",
      "mo_sin_rcnt_rev_tl_op         1117393 non-null float64\n",
      "loan_status                   1117393 non-null object\n",
      "loan_amnt                     1117393 non-null float64\n",
      "libor                         1117393 non-null float64\n",
      "dtypes: category(10), float64(20), object(1)\n",
      "memory usage: 198.2+ MB\n"
     ]
    }
   ],
   "source": [
    "df123.info()"
   ]
  },
  {
   "cell_type": "code",
   "execution_count": 62,
   "metadata": {},
   "outputs": [
    {
     "data": {
      "text/plain": [
       "Fully Paid     39652\n",
       "Charged Off    10348\n",
       "Name: loan_status, dtype: int64"
      ]
     },
     "execution_count": 62,
     "metadata": {},
     "output_type": "execute_result"
    }
   ],
   "source": [
    "df_final = df123[final_vars]\n",
    "# df_final = df_final.loan_status[df_final.loan_status !='Default']\n",
    "data=df_final.copy().sample(n=50000, random_state=1)\n",
    "# data = data.drop(data[data.loan_status=='Default'].index)\n",
    "data.drop(data[data.loan_status=='Default'].index, inplace=True)\n",
    "\n",
    "numeric_features = data.select_dtypes(include=['int64', 'float64']).columns\n",
    "categorical_features = data.select_dtypes(include=['object', 'category']).columns\n",
    "categorical_features=categorical_features.drop(['loan_status'])\n",
    "X = data.loc[:, data.columns != 'loan_status']\n",
    "# Create a new dataframe y that includes only our \n",
    "y = data.loan_status\n",
    "y.value_counts()"
   ]
  },
  {
   "cell_type": "code",
   "execution_count": 63,
   "metadata": {},
   "outputs": [],
   "source": [
    "#1 Inner Pipeline1: Create a numeric transformer with 2 steps\n",
    "numeric_transformer = Pipeline(steps=[\n",
    "    ('imputer', SimpleImputer(strategy = 'median'))])\n",
    "\n",
    "#2 Inner Pipeline2: Create a categorical transformer with 2 steps\n",
    "categorical_transformer = Pipeline(steps=[\n",
    "    ('imputer', SimpleImputer(strategy='most_frequent')),\n",
    "    ('onehot', OneHotEncoder(drop='first'))])\n",
    "\n",
    "#3 Create Preprocessor\n",
    "preprocessor = ColumnTransformer(\n",
    "    transformers=[\n",
    "        ('num', numeric_transformer, numeric_features),\n",
    "        ('cat', categorical_transformer, categorical_features)])"
   ]
  },
  {
   "cell_type": "code",
   "execution_count": 64,
   "metadata": {},
   "outputs": [
    {
     "name": "stdout",
     "output_type": "stream",
     "text": [
      "0.7940666666666667\n",
      "              precision    recall  f1-score   support\n",
      "\n",
      " Charged Off       0.52      0.08      0.13      3104\n",
      "  Fully Paid       0.80      0.98      0.88     11896\n",
      "\n",
      "    accuracy                           0.79     15000\n",
      "   macro avg       0.66      0.53      0.51     15000\n",
      "weighted avg       0.74      0.79      0.73     15000\n",
      "\n"
     ]
    },
    {
     "data": {
      "image/png": "[encoded data removed]",
      "text/plain": [
       "<Figure size 432x288 with 2 Axes>"
      ]
     },
     "metadata": {
      "needs_background": "light"
     },
     "output_type": "display_data"
    }
   ],
   "source": [
    "MainPipe = Pipeline(steps=[('preprocessor', preprocessor),\n",
    "                      ('classifier', RandomForestClassifier(n_estimators=90) )])\n",
    "# split sample into train and test\n",
    "\n",
    "X_train, X_test, y_train, y_test = train_test_split(X,y, test_size=0.3, stratify=y,random_state=42)  # random_state=21 # stratify=y\n",
    "\n",
    "# Fit Model\n",
    "MainPipe.fit(X_train,y_train)\n",
    "\n",
    "# Predict model\n",
    "y_pred = MainPipe.predict(X_test)\n",
    "\n",
    "#Output accuracy of our prediction\n",
    "print(accuracy_score(y_test, y_pred))\n",
    "\n",
    "# Visualize the confusion matrix to make it easier to read\n",
    "con_matrix = confusion_matrix(y_test, y_pred)\n",
    "confusion_matrix_df = pd.DataFrame(con_matrix, ('0', '1'), ('0', '1'))\n",
    "heatmap = sns.heatmap(confusion_matrix_df, annot=True, annot_kws={\"size\": 20}, fmt=\"d\", cmap=\"Blues\")\n",
    "heatmap.yaxis.set_ticklabels(heatmap.yaxis.get_ticklabels(), rotation=0, ha='right', fontsize = 14)\n",
    "heatmap.xaxis.set_ticklabels(heatmap.xaxis.get_ticklabels(), rotation=45, ha='right', fontsize = 14)\n",
    "plt.ylabel('Actual', fontsize = 14)\n",
    "plt.xlabel('Predicted', fontsize = 14)\n",
    "\n",
    "# Print the classification report\n",
    "print(classification_report(y_test, y_pred))"
   ]
  },
  {
   "cell_type": "code",
   "execution_count": 65,
   "metadata": {},
   "outputs": [
    {
     "data": {
      "image/png": "[encoded data removed]",
      "text/plain": [
       "<Figure size 1080x720 with 1 Axes>"
      ]
     },
     "metadata": {
      "needs_background": "light"
     },
     "output_type": "display_data"
    }
   ],
   "source": [
    "# Create a pd.Series of features importances\n",
    "importances_rf = pd.Series(MainPipe.named_steps['classifier'].feature_importances_, index = pd.get_dummies(X,drop_first=True).columns)\n",
    "\n",
    "# Sort importances_rf\n",
    "sorted_importances_rf = importances_rf.sort_values()\n",
    "\n",
    "# Make a horizontal bar plot\n",
    "plt.figure(figsize=(15,10))\n",
    "sorted_importances_rf.plot(kind='barh', color='skyblue'); \n",
    "plt.show()"
   ]
  },
  {
   "cell_type": "markdown",
   "metadata": {},
   "source": [
    "We would ultimately like to perform a classification technique that produces probabilities. This will allow us to pick the loans with the lowest expected probability of default. Therefore, we tried logistic regression as shown below."
   ]
  },
  {
   "cell_type": "code",
   "execution_count": 90,
   "metadata": {},
   "outputs": [],
   "source": [
    "# Import required modules\n",
    "from sklearn.pipeline import Pipeline\n",
    "from sklearn.impute import SimpleImputer\n",
    "#from sklearn.impute import Imputer\n",
    "from sklearn.preprocessing import StandardScaler, OneHotEncoder\n",
    "from sklearn.compose import ColumnTransformer\n",
    "\n",
    "\n",
    "#1 Inner Pipeline1: Create a numeric transformer with 2 steps\n",
    "numeric_transformer = Pipeline(steps=[\n",
    "    ('imputer', SimpleImputer(strategy = 'median')),\n",
    "    ('scaler', StandardScaler())])\n",
    "\n",
    "#2 Inner Pipeline2: Create a categorical transformer with 2 steps\n",
    "categorical_transformer = Pipeline(steps=[\n",
    "    ('imputer', SimpleImputer(strategy='most_frequent')),\n",
    "    ('onehot', OneHotEncoder(handle_unknown='ignore'))])\n",
    "\n",
    "#3 Create Preprocessor\n",
    "preprocessor = ColumnTransformer(\n",
    "    transformers=[\n",
    "        ('num', numeric_transformer, numeric_features),\n",
    "        ('cat', categorical_transformer, categorical_features)])"
   ]
  },
  {
   "cell_type": "code",
   "execution_count": 67,
   "metadata": {},
   "outputs": [
    {
     "name": "stdout",
     "output_type": "stream",
     "text": [
      "0.7936666666666666\n",
      "              precision    recall  f1-score   support\n",
      "\n",
      " Charged Off       0.51      0.06      0.11      3104\n",
      "  Fully Paid       0.80      0.98      0.88     11896\n",
      "\n",
      "    accuracy                           0.79     15000\n",
      "   macro avg       0.66      0.52      0.50     15000\n",
      "weighted avg       0.74      0.79      0.72     15000\n",
      "\n"
     ]
    },
    {
     "data": {
      "image/png": "[encoded data removed]",
      "text/plain": [
       "<Figure size 432x288 with 2 Axes>"
      ]
     },
     "metadata": {
      "needs_background": "light"
     },
     "output_type": "display_data"
    }
   ],
   "source": [
    "\n",
    "from sklearn.linear_model import LogisticRegression\n",
    "MainPipe = Pipeline(steps=[('preprocessor', preprocessor),\n",
    "                      ('classifier', LogisticRegression(solver='lbfgs',max_iter=10000) )])\n",
    "\n",
    "# split sample into train and test\n",
    "from sklearn.model_selection import train_test_split\n",
    "X_train, X_test, y_train, y_test = train_test_split(X,y, test_size=0.3, stratify=y)  # random_state=21 # stratify=y\n",
    "\n",
    "# Fit Model\n",
    "MainPipe.fit(X_train, y_train)\n",
    "\n",
    "# Predict model\n",
    "y_pred = MainPipe.predict(X_test)\n",
    "\n",
    "# Output the accuracy of our prediction\n",
    "from sklearn.metrics import accuracy_score\n",
    "print(accuracy_score(y_test, y_pred))\n",
    "\n",
    "# Visualize the confusion matrix to make it easier to read\n",
    "from sklearn.metrics import confusion_matrix\n",
    "con_matrix = confusion_matrix(y_test, y_pred)\n",
    "confusion_matrix_df = pd.DataFrame(con_matrix, ('0', '1'), ('0', '1'))\n",
    "heatmap = sns.heatmap(confusion_matrix_df, annot=True, annot_kws={\"size\": 20}, fmt=\"d\", cmap=\"Blues\")\n",
    "heatmap.yaxis.set_ticklabels(heatmap.yaxis.get_ticklabels(), rotation=0, ha='right', fontsize = 14)\n",
    "heatmap.xaxis.set_ticklabels(heatmap.xaxis.get_ticklabels(), rotation=45, ha='right', fontsize = 14)\n",
    "plt.ylabel('Actual', fontsize = 14)\n",
    "plt.xlabel('Predicted', fontsize = 14)\n",
    "\n",
    "# Print the classification report\n",
    "from sklearn.metrics import classification_report\n",
    "print(classification_report(y_test, y_pred))"
   ]
  },
  {
   "cell_type": "markdown",
   "metadata": {},
   "source": [
    "Although this accuracy sounds good, it is not great considering the baseline accuracy of predicting all loans to be fully paid. Therefore, we will try rebalancing the data so it has approximately 50 percent defaulted and 50 percent fully paid loans. This will allow us to train on data to better learn the distinguishing factors of defaulted vs fully paid"
   ]
  },
  {
   "cell_type": "code",
   "execution_count": 144,
   "metadata": {},
   "outputs": [],
   "source": [
    "data=df123[final_vars]\n",
    "FP = data.copy().loc[data['loan_status'] == 'Fully Paid'].sample(n=25000, random_state=1)\n",
    "CO = data.copy().loc[data['loan_status'] == 'Charged Off'].sample(n=25000, random_state=1)\n",
    "data = pd.concat([FP, CO], ignore_index=True).sample(frac=1)\n",
    "\n",
    "numeric_features = data.select_dtypes(include=['int64', 'float64']).columns\n",
    "categorical_features = data.select_dtypes(include=['object', 'category']).columns\n",
    "categorical_features=categorical_features.drop(['loan_status'])\n",
    "X = data.loc[:, data.columns != 'loan_status']\n",
    "# Create a new dataframe y that includes only our \n",
    "y = data.loan_status"
   ]
  },
  {
   "cell_type": "code",
   "execution_count": 145,
   "metadata": {},
   "outputs": [
    {
     "name": "stdout",
     "output_type": "stream",
     "text": [
      "0.6500666666666667\n",
      "              precision    recall  f1-score   support\n",
      "\n",
      " Charged Off       0.64      0.69      0.66      7500\n",
      "  Fully Paid       0.66      0.61      0.64      7500\n",
      "\n",
      "    accuracy                           0.65     15000\n",
      "   macro avg       0.65      0.65      0.65     15000\n",
      "weighted avg       0.65      0.65      0.65     15000\n",
      "\n"
     ]
    },
    {
     "data": {
      "image/png": "[encoded data removed]",
      "text/plain": [
       "<Figure size 432x288 with 2 Axes>"
      ]
     },
     "metadata": {
      "needs_background": "light"
     },
     "output_type": "display_data"
    }
   ],
   "source": [
    "from sklearn.linear_model import LogisticRegression\n",
    "MainPipe = Pipeline(steps=[('preprocessor', preprocessor),\n",
    "                      ('classifier', LogisticRegression(solver='lbfgs',max_iter=10000) )])\n",
    "\n",
    "# split sample into train and test\n",
    "from sklearn.model_selection import train_test_split\n",
    "X_train, X_test, y_train, y_test = train_test_split(X,y, test_size=0.3, stratify=y)  # random_state=21 # stratify=y\n",
    "\n",
    "# Fit Model\n",
    "MainPipe.fit(X_train, y_train)\n",
    "\n",
    "# Predict model\n",
    "y_pred = MainPipe.predict(X_test)\n",
    "\n",
    "# Output the accuracy of our prediction\n",
    "from sklearn.metrics import accuracy_score\n",
    "print(accuracy_score(y_test, y_pred))\n",
    "\n",
    "# Visualize the confusion matrix to make it easier to read\n",
    "from sklearn.metrics import confusion_matrix\n",
    "con_matrix = confusion_matrix(y_test, y_pred)\n",
    "confusion_matrix_df = pd.DataFrame(con_matrix, ('0', '1'), ('0', '1'))\n",
    "heatmap = sns.heatmap(confusion_matrix_df, annot=True, annot_kws={\"size\": 20}, fmt=\"d\", cmap=\"Blues\")\n",
    "heatmap.yaxis.set_ticklabels(heatmap.yaxis.get_ticklabels(), rotation=0, ha='right', fontsize = 14)\n",
    "heatmap.xaxis.set_ticklabels(heatmap.xaxis.get_ticklabels(), rotation=45, ha='right', fontsize = 14)\n",
    "plt.ylabel('Actual', fontsize = 14)\n",
    "plt.xlabel('Predicted', fontsize = 14)\n",
    "\n",
    "# Print the classification report\n",
    "from sklearn.metrics import classification_report\n",
    "print(classification_report(y_test, y_pred))"
   ]
  },
  {
   "cell_type": "code",
   "execution_count": 147,
   "metadata": {},
   "outputs": [],
   "source": [
    "#anti join functions taken from https://gist.github.com/sainathadapa/eb3303975196d15c73bac5b92d8a210f\n",
    "\n",
    "def anti_join(x, y, on):\n",
    "    \"\"\"Return rows in x which are not present in y\"\"\"\n",
    "    ans = pd.merge(left=x, right=y, how='left', indicator=True, on=on)\n",
    "    ans = ans.loc[ans._merge == 'left_only', :].drop(columns='_merge')\n",
    "    return ans\n",
    "\n",
    "def anti_join_all_cols(x, y):\n",
    "    \"\"\"Return rows in x which are not present in y\"\"\"\n",
    "    assert set(x.columns.values) == set(y.columns.values)\n",
    "    return anti_join(x, y, x.columns.tolist())\n",
    "larger_test_set = anti_join_all_cols(df123[final_vars],data)"
   ]
  },
  {
   "cell_type": "code",
   "execution_count": 151,
   "metadata": {},
   "outputs": [
    {
     "name": "stdout",
     "output_type": "stream",
     "text": [
      "              precision    recall  f1-score   support\n",
      "\n",
      " Charged Off       0.30      0.69      0.42    208261\n",
      "  Fully Paid       0.89      0.61      0.73    859132\n",
      "\n",
      "    accuracy                           0.63   1067393\n",
      "   macro avg       0.59      0.65      0.57   1067393\n",
      "weighted avg       0.77      0.63      0.67   1067393\n",
      "\n"
     ]
    }
   ],
   "source": [
    "print(classification_report(larger_test_set['loan_status'],MainPipe.predict(larger_test_set.loc[:, data.columns != 'loan_status'])))"
   ]
  },
  {
   "cell_type": "markdown",
   "metadata": {},
   "source": [
    "The Logistic Regression did pretty well (about 65 percent accuracy vs. a 50 percent baseline) but the problem is it does not work well when you then test it on imbalanced data again (worse than baseline). Our data will normally be imbalanced since most loans do not default. For this reason we will stick with the stratified sampling method to train our model"
   ]
  },
  {
   "cell_type": "markdown",
   "metadata": {},
   "source": [
    "# Return Model"
   ]
  },
  {
   "cell_type": "markdown",
   "metadata": {},
   "source": [
    "Now that we have a model to predict *loan_status* based on our team's curated list of variables, our team wanted to take this process a step further to predict the expected returns on these loans. Our final goal is to build a model that combines finding high return and lowest probability of default to give the best list of investable loans to Dr. D. \n",
    "\n",
    "The below output showcases our formula for calculating return of a loan. Essentially, we created an annualized return variable which was: (the total amount paid on the loan minus the total amount invested in the loan)/(total amount invested in the loan). We then annualized this value by multiplying by 12/term. We will use this newly created return variable as our response variable. "
   ]
  },
  {
   "cell_type": "code",
   "execution_count": 84,
   "metadata": {},
   "outputs": [],
   "source": [
    "data_rm = df_final.copy()\n",
    "data_rm['total_pymnt']=df.total_pymnt\n",
    "data_rm['funded_amnt']=df.funded_amnt\n",
    "data_rm['term']=np.where(data_rm['term']==' 36 months',36,60)\n",
    "data_rm['return']=(((data_rm.total_pymnt)-data_rm.funded_amnt)/data_rm.funded_amnt)*12/data_rm.term\n",
    "data_rm = data_rm.drop(['total_pymnt','funded_amnt','term'],axis=1)\n",
    "data_rm = data_rm.dropna()"
   ]
  },
  {
   "cell_type": "code",
   "execution_count": 85,
   "metadata": {},
   "outputs": [],
   "source": [
    "data=data_rm.sample(n=50000, random_state=1)\n",
    "numeric_features = data.select_dtypes(include=['int64', 'float64']).columns\n",
    "categorical_features = data.select_dtypes(include=['object', 'category']).columns\n",
    "categorical_features=categorical_features.drop(['loan_status'])\n",
    "X = data.loc[:, data.columns != 'loan_status']\n",
    "numeric_features = numeric_features.drop('return')\n",
    "X= data.drop(['return'],axis=1)\n",
    "# Create a new dataframe y that includes only our \n",
    "y = data['return']"
   ]
  },
  {
   "cell_type": "code",
   "execution_count": 86,
   "metadata": {},
   "outputs": [],
   "source": [
    "from sklearn.pipeline import Pipeline\n",
    "from sklearn.impute import SimpleImputer\n",
    "#from sklearn.impute import Imputer\n",
    "from sklearn.compose import ColumnTransformer\n",
    "\n",
    "\n",
    "#1 Inner Pipeline1: Create a numeric transformer with 2 steps\n",
    "numeric_transformer = Pipeline(steps=[\n",
    "    ('imputer', SimpleImputer(strategy = 'median'))])\n",
    "\n",
    "#2 Inner Pipeline2: Create a categorical transformer with 2 steps\n",
    "categorical_transformer = Pipeline(steps=[\n",
    "    ('imputer', SimpleImputer(strategy='most_frequent')),\n",
    "    ('onehot', OneHotEncoder(handle_unknown='ignore'))])\n",
    "\n",
    "#3 Create Preprocessor\n",
    "preprocessor = ColumnTransformer(\n",
    "    transformers=[\n",
    "        ('num', numeric_transformer, numeric_features),\n",
    "        ('cat', categorical_transformer, categorical_features)])"
   ]
  },
  {
   "cell_type": "code",
   "execution_count": 87,
   "metadata": {
    "scrolled": true
   },
   "outputs": [],
   "source": [
    "from sklearn.ensemble import RandomForestRegressor, ExtraTreesClassifier\n",
    "from sklearn.linear_model import SGDClassifier\n",
    "from sklearn.neural_network import MLPClassifier\n",
    "from sklearn.gaussian_process import GaussianProcessClassifier\n",
    "from sklearn.feature_selection import SelectFromModel, SelectKBest\n",
    "from matplotlib import pyplot as plt\n",
    "MainPipe = Pipeline(steps=[('preprocessor', preprocessor),\n",
    "                      ('regressor', RandomForestRegressor(n_estimators=90) )])\n",
    "#('fs',SelectFromModel(ExtraTreesClassifier())),\n",
    "# split sample into train and test\n",
    "from sklearn.model_selection import train_test_split\n",
    "X_train, X_test, y_train, y_test = train_test_split(X,y, test_size=0.3, random_state=42)  # random_state=21 # stratify=y\n",
    "\n",
    "\n",
    "# Fit Model\n",
    "MainPipe.fit(X_train,y_train)\n",
    "\n",
    "# Predict model\n",
    "y_pred = MainPipe.predict(X_test)"
   ]
  },
  {
   "cell_type": "code",
   "execution_count": 88,
   "metadata": {},
   "outputs": [],
   "source": [
    "from sklearn import metrics, model_selection\n",
    "def evaluate(y_test, y_pred):\n",
    "    # this block of code returns all the metrics we are interested in \n",
    "    mse = metrics.mean_squared_error(y_test, y_pred)\n",
    "    msa = metrics.mean_absolute_error(y_test, y_pred)\n",
    "    r2 = metrics.r2_score(y_test, y_pred)\n",
    "\n",
    "    print(\"Mean squared error: \", mse)\n",
    "    print(\"Mean absolute error: \", msa)\n",
    "    print(\"R^2 : \", r2)\n",
    "    \n",
    "    # this creates a chart plotting predicted and actual \n",
    "    plt.figure(figsize=(12,6))\n",
    "    plt.scatter(y_test, y_pred)\n",
    "    plt.xlabel(\"Actual Interest over Libor: $y_i$\")\n",
    "    plt.ylabel(\"Predicted Interest over Libor: $\\hat{y}_i$\")\n",
    "    plt.title(\"Interest over Libor vs Predicted Interest over Libor: $y_i$ vs $\\hat{y}_i$\")"
   ]
  },
  {
   "cell_type": "code",
   "execution_count": 89,
   "metadata": {},
   "outputs": [
    {
     "name": "stdout",
     "output_type": "stream",
     "text": [
      "Mean squared error:  0.008320484773912942\n",
      "Mean absolute error:  0.06615003937669876\n",
      "R^2 :  -0.02353332848773526\n"
     ]
    },
    {
     "data": {
      "image/png": "[encoded data removed]",
      "text/plain": [
       "<Figure size 864x432 with 1 Axes>"
      ]
     },
     "metadata": {
      "needs_background": "light"
     },
     "output_type": "display_data"
    }
   ],
   "source": [
    "evaluate(y_test, y_pred)"
   ]
  },
  {
   "cell_type": "markdown",
   "metadata": {},
   "source": [
    "Unfortunately the return model did not work as we would have liked. It appears that we either calculated it wrong or that the variables are inaccurate. \n",
    "\n",
    "Regardless, we would like to show how we would evaluate our default model- using the 1000 loans with the lowest probability of default. We will show the average return of this portfolio. Although our return was not calculated correctly, this is how we would evaluate the model in a perfect world."
   ]
  },
  {
   "cell_type": "code",
   "execution_count": 128,
   "metadata": {},
   "outputs": [],
   "source": [
    "data=data_rm.sample(n=50000, random_state=1)\n",
    "numeric_features = data.select_dtypes(include=['int64', 'float64']).columns\n",
    "categorical_features = data.select_dtypes(include=['object', 'category']).columns\n",
    "categorical_features=categorical_features.drop(['loan_status'])\n",
    "X = data.loc[:, data.columns != 'loan_status']\n",
    "numeric_features = numeric_features.drop('return')\n",
    "#X= data.drop(['return'],axis=1)\n",
    "# Create a new dataframe y that includes only our \n",
    "y = data['loan_status']"
   ]
  },
  {
   "cell_type": "code",
   "execution_count": 129,
   "metadata": {},
   "outputs": [],
   "source": [
    "# Import required modules\n",
    "from sklearn.pipeline import Pipeline\n",
    "from sklearn.impute import SimpleImputer\n",
    "#from sklearn.impute import Imputer\n",
    "from sklearn.preprocessing import StandardScaler, OneHotEncoder\n",
    "from sklearn.compose import ColumnTransformer\n",
    "\n",
    "\n",
    "#1 Inner Pipeline1: Create a numeric transformer with 2 steps\n",
    "numeric_transformer = Pipeline(steps=[\n",
    "    ('imputer', SimpleImputer(strategy = 'median')),\n",
    "    ('scaler', StandardScaler())])\n",
    "\n",
    "#2 Inner Pipeline2: Create a categorical transformer with 2 steps\n",
    "categorical_transformer = Pipeline(steps=[\n",
    "    ('imputer', SimpleImputer(strategy='most_frequent')),\n",
    "    ('onehot', OneHotEncoder(handle_unknown='ignore'))])\n",
    "\n",
    "#3 Create Preprocessor\n",
    "preprocessor = ColumnTransformer(\n",
    "    transformers=[\n",
    "        ('num', numeric_transformer, numeric_features),\n",
    "        ('cat', categorical_transformer, categorical_features)])"
   ]
  },
  {
   "cell_type": "code",
   "execution_count": 130,
   "metadata": {},
   "outputs": [
    {
     "name": "stdout",
     "output_type": "stream",
     "text": [
      "0.796\n",
      "              precision    recall  f1-score   support\n",
      "\n",
      " Charged Off       0.56      0.06      0.10      3094\n",
      "  Fully Paid       0.80      0.99      0.88     11906\n",
      "\n",
      "    accuracy                           0.80     15000\n",
      "   macro avg       0.68      0.52      0.49     15000\n",
      "weighted avg       0.75      0.80      0.72     15000\n",
      "\n"
     ]
    },
    {
     "data": {
      "image/png": "[encoded data removed]",
      "text/plain": [
       "<Figure size 432x288 with 2 Axes>"
      ]
     },
     "metadata": {
      "needs_background": "light"
     },
     "output_type": "display_data"
    }
   ],
   "source": [
    "\n",
    "from sklearn.linear_model import LogisticRegression\n",
    "MainPipe = Pipeline(steps=[('preprocessor', preprocessor),\n",
    "                      ('classifier', LogisticRegression(solver='lbfgs',max_iter=10000) )])\n",
    "\n",
    "# split sample into train and test\n",
    "from sklearn.model_selection import train_test_split\n",
    "X_train, X_test, y_train, y_test = train_test_split(X,y, test_size=0.3, stratify=y)  # random_state=21 # stratify=y\n",
    "\n",
    "test_returns = X_test['return']\n",
    "X_test= X_test.drop(['return'],axis=1)\n",
    "X_train = X_train.drop(['return'],axis=1)\n",
    "\n",
    "# Fit Model\n",
    "MainPipe.fit(X_train, y_train)\n",
    "\n",
    "# Predict model\n",
    "y_pred = MainPipe.predict(X_test)\n",
    "\n",
    "# Output the accuracy of our prediction\n",
    "from sklearn.metrics import accuracy_score\n",
    "print(accuracy_score(y_test, y_pred))\n",
    "\n",
    "# Visualize the confusion matrix to make it easier to read\n",
    "from sklearn.metrics import confusion_matrix\n",
    "con_matrix = confusion_matrix(y_test, y_pred)\n",
    "confusion_matrix_df = pd.DataFrame(con_matrix, ('0', '1'), ('0', '1'))\n",
    "heatmap = sns.heatmap(confusion_matrix_df, annot=True, annot_kws={\"size\": 20}, fmt=\"d\", cmap=\"Blues\")\n",
    "heatmap.yaxis.set_ticklabels(heatmap.yaxis.get_ticklabels(), rotation=0, ha='right', fontsize = 14)\n",
    "heatmap.xaxis.set_ticklabels(heatmap.xaxis.get_ticklabels(), rotation=45, ha='right', fontsize = 14)\n",
    "plt.ylabel('Actual', fontsize = 14)\n",
    "plt.xlabel('Predicted', fontsize = 14)\n",
    "\n",
    "# Print the classification report\n",
    "from sklearn.metrics import classification_report\n",
    "print(classification_report(y_test, y_pred))"
   ]
  },
  {
   "cell_type": "code",
   "execution_count": 131,
   "metadata": {
    "scrolled": true
   },
   "outputs": [
    {
     "data": {
      "image/png": "[encoded data removed]",
      "text/plain": [
       "<Figure size 432x288 with 1 Axes>"
      ]
     },
     "metadata": {
      "needs_background": "light"
     },
     "output_type": "display_data"
    }
   ],
   "source": [
    "X_test=X_test.copy()\n",
    "X_test.loc[:,'probability_default']=[x[0] for x in MainPipe.predict_proba(X_test)]\n",
    "#plt.hist(X_test.probability_default, bins=np.linspace(0,1,21))\n",
    "sns.distplot(X_test.probability_default,bins=20,kde=False, rug=False)\n",
    "plt.xticks(np.linspace(0,1,11))\n",
    "plt.ylabel('Number of test observations')\n",
    "plt.title('Default Model Predictions')\n",
    "plt.show()"
   ]
  },
  {
   "cell_type": "code",
   "execution_count": 136,
   "metadata": {},
   "outputs": [
    {
     "data": {
      "text/plain": [
       "-0.0024187085097869144"
      ]
     },
     "execution_count": 136,
     "metadata": {},
     "output_type": "execute_result"
    }
   ],
   "source": [
    "np.mean(test_returns[X_test.sort_values('probability_default')[:1000].index])"
   ]
  },
  {
   "cell_type": "markdown",
   "metadata": {},
   "source": [
    "Above is the average annualized return (remember that we did not correctly calculate return) from picking loans based on lowest expected probability of default. Lastly, we will show the average annualized return from randomly picking 1000 loans from the test set."
   ]
  },
  {
   "cell_type": "code",
   "execution_count": 138,
   "metadata": {},
   "outputs": [
    {
     "data": {
      "text/plain": [
       "0.0014857269785491984"
      ]
     },
     "execution_count": 138,
     "metadata": {},
     "output_type": "execute_result"
    }
   ],
   "source": [
    "np.mean(test_returns.sample(n=1000))"
   ]
  }
 ],
 "metadata": {
  "kernelspec": {
   "display_name": "Python 3",
   "language": "python",
   "name": "python3"
  },
  "language_info": {
   "codemirror_mode": {
    "name": "ipython",
    "version": 3
   },
   "file_extension": ".py",
   "mimetype": "text/x-python",
   "name": "python",
   "nbconvert_exporter": "python",
   "pygments_lexer": "ipython3",
   "version": "3.7.4"
  }
 },
 "nbformat": 4,
 "nbformat_minor": 2
}
